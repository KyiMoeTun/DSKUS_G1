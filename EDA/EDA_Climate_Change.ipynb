{
 "cells": [
  {
   "attachments": {},
   "cell_type": "markdown",
   "metadata": {},
   "source": [
    "# DSKUS Group 1 EDA\n",
    "## Names below"
   ]
  },
  {
   "attachments": {},
   "cell_type": "markdown",
   "metadata": {},
   "source": [
    "### Kyi Moe Tun"
   ]
  },
  {
   "attachments": {},
   "cell_type": "markdown",
   "metadata": {},
   "source": [
    "### The Global Carbon Project's Fossil CO₂ Emissions Dataset\n",
    "\n",
    "The Global Carbon Project (GCP) was established in 2001 and has been publishing estimates of global and national fossil CO₂ emissions since that time. The GCP is one of 20 Global Research Projects under Future Earth and aims to develop a complete picture of the global carbon cycle, including its biophysical and human dimensions. The GCP's fossil CO₂ emissions dataset is a component of the Global Carbon Budget, which balances source and sink components of carbon dioxide.\n",
    "\n",
    "In the early years, the GCP's fossil CO₂ emissions dataset was taken directly from the Carbon Dioxide Information Analysis Center (CDIAC) of the Oak Ridge National Laboratory. CDIAC had been producing estimates of global and national fossil CO₂ emissions since 1999, with a history dating back to 1973. CDIAC's emissions estimates covered all countries, extending back to 1751 in the early industrial period, and were divided into emissions from solid, liquid, and gaseous fuels as well as venting/flaring and cement production.\n",
    "\n",
    "Over the years, the GCP has refined its fossil CO₂ emissions dataset in response to feedback and identification of inaccuracies. The 2022 release of the dataset reflects the latest methodology used by the GCP in estimating fossil CO₂ emissions.\n",
    "\n",
    "#### Columns and Definitions:\n",
    "- **Country**: The name of the country.\n",
    "- **ISO 3166-1 alpha-3**: The three-letter code for the country.\n",
    "- **Year**: The year of the survey data.\n",
    "- **Total**: The total amount of CO₂ emitted by the country in that year (metric tons).\n",
    "- **Coal**: Amount of CO₂ emitted from coal combustion (metric tons).\n",
    "- **Oil**: Amount of CO₂ emitted from oil combustion (metric tons).\n",
    "- **Gas**: Amount of CO₂ emitted from natural gas combustion (metric tons).\n",
    "- **Cement**: Amount of CO₂ emitted from cement production (metric tons).\n",
    "- **Flaring**: CO₂ emissions from flaring of natural gas (metric tons).\n",
    "- **Other**: CO₂ emissions from other sources, such as industrial processes (metric tons).\n",
    "- **Per Capita**: Per capita CO₂ emissions in the country (metric tons per person).\n",
    "\n",
    "This dataset serves as a comprehensive and verified source of information for government bodies, private organizations, universities, NGOs, and research agencies to track environmental changes, analyze trends, and make data-driven decisions for a sustainable future.\n"
   ]
  },
  {
   "cell_type": "code",
   "execution_count": 51,
   "metadata": {},
   "outputs": [],
   "source": [
    "# Installing pacakges\n",
    "#!pip install plotly\n",
    "#!pip install nbformat"
   ]
  },
  {
   "cell_type": "code",
   "execution_count": 1,
   "metadata": {},
   "outputs": [],
   "source": [
    "# Insert your code here\n",
    "# importing libraries\n",
    "import pandas as pd\n",
    "import numpy as np\n",
    "import matplotlib.pyplot as plt\n",
    "import seaborn as sns\n",
    "import plotly.express as px\n",
    "import plotly.graph_objs as go"
   ]
  },
  {
   "cell_type": "code",
   "execution_count": 52,
   "metadata": {},
   "outputs": [],
   "source": [
    "# reading the dataframe\n",
    "emission = pd.read_csv('../Datasets/emission_by_country.csv')"
   ]
  },
  {
   "cell_type": "code",
   "execution_count": 53,
   "metadata": {},
   "outputs": [
    {
     "data": {
      "text/html": [
       "<div>\n",
       "<style scoped>\n",
       "    .dataframe tbody tr th:only-of-type {\n",
       "        vertical-align: middle;\n",
       "    }\n",
       "\n",
       "    .dataframe tbody tr th {\n",
       "        vertical-align: top;\n",
       "    }\n",
       "\n",
       "    .dataframe thead th {\n",
       "        text-align: right;\n",
       "    }\n",
       "</style>\n",
       "<table border=\"1\" class=\"dataframe\">\n",
       "  <thead>\n",
       "    <tr style=\"text-align: right;\">\n",
       "      <th></th>\n",
       "      <th>Country</th>\n",
       "      <th>ISO 3166-1 alpha-3</th>\n",
       "      <th>Year</th>\n",
       "      <th>Total</th>\n",
       "      <th>Coal</th>\n",
       "      <th>Oil</th>\n",
       "      <th>Gas</th>\n",
       "      <th>Cement</th>\n",
       "      <th>Flaring</th>\n",
       "      <th>Other</th>\n",
       "      <th>Per Capita</th>\n",
       "    </tr>\n",
       "  </thead>\n",
       "  <tbody>\n",
       "    <tr>\n",
       "      <th>0</th>\n",
       "      <td>Afghanistan</td>\n",
       "      <td>AFG</td>\n",
       "      <td>1750</td>\n",
       "      <td>0.0</td>\n",
       "      <td>NaN</td>\n",
       "      <td>NaN</td>\n",
       "      <td>NaN</td>\n",
       "      <td>NaN</td>\n",
       "      <td>NaN</td>\n",
       "      <td>NaN</td>\n",
       "      <td>NaN</td>\n",
       "    </tr>\n",
       "    <tr>\n",
       "      <th>1</th>\n",
       "      <td>Afghanistan</td>\n",
       "      <td>AFG</td>\n",
       "      <td>1751</td>\n",
       "      <td>0.0</td>\n",
       "      <td>NaN</td>\n",
       "      <td>NaN</td>\n",
       "      <td>NaN</td>\n",
       "      <td>NaN</td>\n",
       "      <td>NaN</td>\n",
       "      <td>NaN</td>\n",
       "      <td>NaN</td>\n",
       "    </tr>\n",
       "    <tr>\n",
       "      <th>2</th>\n",
       "      <td>Afghanistan</td>\n",
       "      <td>AFG</td>\n",
       "      <td>1752</td>\n",
       "      <td>0.0</td>\n",
       "      <td>NaN</td>\n",
       "      <td>NaN</td>\n",
       "      <td>NaN</td>\n",
       "      <td>NaN</td>\n",
       "      <td>NaN</td>\n",
       "      <td>NaN</td>\n",
       "      <td>NaN</td>\n",
       "    </tr>\n",
       "    <tr>\n",
       "      <th>3</th>\n",
       "      <td>Afghanistan</td>\n",
       "      <td>AFG</td>\n",
       "      <td>1753</td>\n",
       "      <td>0.0</td>\n",
       "      <td>NaN</td>\n",
       "      <td>NaN</td>\n",
       "      <td>NaN</td>\n",
       "      <td>NaN</td>\n",
       "      <td>NaN</td>\n",
       "      <td>NaN</td>\n",
       "      <td>NaN</td>\n",
       "    </tr>\n",
       "    <tr>\n",
       "      <th>4</th>\n",
       "      <td>Afghanistan</td>\n",
       "      <td>AFG</td>\n",
       "      <td>1754</td>\n",
       "      <td>0.0</td>\n",
       "      <td>NaN</td>\n",
       "      <td>NaN</td>\n",
       "      <td>NaN</td>\n",
       "      <td>NaN</td>\n",
       "      <td>NaN</td>\n",
       "      <td>NaN</td>\n",
       "      <td>NaN</td>\n",
       "    </tr>\n",
       "  </tbody>\n",
       "</table>\n",
       "</div>"
      ],
      "text/plain": [
       "       Country ISO 3166-1 alpha-3  Year  Total  Coal  Oil  Gas  Cement  \\\n",
       "0  Afghanistan                AFG  1750    0.0   NaN  NaN  NaN     NaN   \n",
       "1  Afghanistan                AFG  1751    0.0   NaN  NaN  NaN     NaN   \n",
       "2  Afghanistan                AFG  1752    0.0   NaN  NaN  NaN     NaN   \n",
       "3  Afghanistan                AFG  1753    0.0   NaN  NaN  NaN     NaN   \n",
       "4  Afghanistan                AFG  1754    0.0   NaN  NaN  NaN     NaN   \n",
       "\n",
       "   Flaring  Other  Per Capita  \n",
       "0      NaN    NaN         NaN  \n",
       "1      NaN    NaN         NaN  \n",
       "2      NaN    NaN         NaN  \n",
       "3      NaN    NaN         NaN  \n",
       "4      NaN    NaN         NaN  "
      ]
     },
     "execution_count": 53,
     "metadata": {},
     "output_type": "execute_result"
    }
   ],
   "source": [
    "emission.head()"
   ]
  },
  {
   "attachments": {},
   "cell_type": "markdown",
   "metadata": {},
   "source": [
    "#### Data Cleaning"
   ]
  },
  {
   "cell_type": "code",
   "execution_count": 54,
   "metadata": {},
   "outputs": [],
   "source": [
    "# filtering out the rows after 1980\n",
    "ems = emission[emission['Year'] > 2000].reset_index(drop=True)"
   ]
  },
  {
   "cell_type": "code",
   "execution_count": 55,
   "metadata": {},
   "outputs": [
    {
     "data": {
      "text/plain": [
       "(4872, 11)"
      ]
     },
     "execution_count": 55,
     "metadata": {},
     "output_type": "execute_result"
    }
   ],
   "source": [
    "ems.shape"
   ]
  },
  {
   "cell_type": "code",
   "execution_count": 56,
   "metadata": {},
   "outputs": [
    {
     "data": {
      "text/html": [
       "<div>\n",
       "<style scoped>\n",
       "    .dataframe tbody tr th:only-of-type {\n",
       "        vertical-align: middle;\n",
       "    }\n",
       "\n",
       "    .dataframe tbody tr th {\n",
       "        vertical-align: top;\n",
       "    }\n",
       "\n",
       "    .dataframe thead th {\n",
       "        text-align: right;\n",
       "    }\n",
       "</style>\n",
       "<table border=\"1\" class=\"dataframe\">\n",
       "  <thead>\n",
       "    <tr style=\"text-align: right;\">\n",
       "      <th></th>\n",
       "      <th>Country</th>\n",
       "      <th>ISO 3166-1 alpha-3</th>\n",
       "      <th>Year</th>\n",
       "      <th>Total</th>\n",
       "      <th>Coal</th>\n",
       "      <th>Oil</th>\n",
       "      <th>Gas</th>\n",
       "      <th>Cement</th>\n",
       "      <th>Flaring</th>\n",
       "      <th>Other</th>\n",
       "      <th>Per Capita</th>\n",
       "    </tr>\n",
       "  </thead>\n",
       "  <tbody>\n",
       "    <tr>\n",
       "      <th>0</th>\n",
       "      <td>Afghanistan</td>\n",
       "      <td>AFG</td>\n",
       "      <td>2001</td>\n",
       "      <td>1.069098</td>\n",
       "      <td>0.069616</td>\n",
       "      <td>0.762112</td>\n",
       "      <td>0.208848</td>\n",
       "      <td>0.006538</td>\n",
       "      <td>0.021984</td>\n",
       "      <td>NaN</td>\n",
       "      <td>0.054300</td>\n",
       "    </tr>\n",
       "    <tr>\n",
       "      <th>1</th>\n",
       "      <td>Afghanistan</td>\n",
       "      <td>AFG</td>\n",
       "      <td>2002</td>\n",
       "      <td>1.340995</td>\n",
       "      <td>0.055109</td>\n",
       "      <td>0.727438</td>\n",
       "      <td>0.547416</td>\n",
       "      <td>0.011033</td>\n",
       "      <td>0.000000</td>\n",
       "      <td>NaN</td>\n",
       "      <td>0.063856</td>\n",
       "    </tr>\n",
       "    <tr>\n",
       "      <th>2</th>\n",
       "      <td>Afghanistan</td>\n",
       "      <td>AFG</td>\n",
       "      <td>2003</td>\n",
       "      <td>1.559602</td>\n",
       "      <td>0.091813</td>\n",
       "      <td>0.991575</td>\n",
       "      <td>0.466408</td>\n",
       "      <td>0.009807</td>\n",
       "      <td>0.000000</td>\n",
       "      <td>NaN</td>\n",
       "      <td>0.068871</td>\n",
       "    </tr>\n",
       "    <tr>\n",
       "      <th>3</th>\n",
       "      <td>Afghanistan</td>\n",
       "      <td>AFG</td>\n",
       "      <td>2004</td>\n",
       "      <td>1.237247</td>\n",
       "      <td>0.091600</td>\n",
       "      <td>0.908672</td>\n",
       "      <td>0.227168</td>\n",
       "      <td>0.009807</td>\n",
       "      <td>0.000000</td>\n",
       "      <td>NaN</td>\n",
       "      <td>0.052529</td>\n",
       "    </tr>\n",
       "    <tr>\n",
       "      <th>4</th>\n",
       "      <td>Afghanistan</td>\n",
       "      <td>AFG</td>\n",
       "      <td>2005</td>\n",
       "      <td>1.889507</td>\n",
       "      <td>0.106256</td>\n",
       "      <td>1.447280</td>\n",
       "      <td>0.329760</td>\n",
       "      <td>0.006211</td>\n",
       "      <td>0.000000</td>\n",
       "      <td>NaN</td>\n",
       "      <td>0.077403</td>\n",
       "    </tr>\n",
       "  </tbody>\n",
       "</table>\n",
       "</div>"
      ],
      "text/plain": [
       "       Country ISO 3166-1 alpha-3  Year     Total      Coal       Oil  \\\n",
       "0  Afghanistan                AFG  2001  1.069098  0.069616  0.762112   \n",
       "1  Afghanistan                AFG  2002  1.340995  0.055109  0.727438   \n",
       "2  Afghanistan                AFG  2003  1.559602  0.091813  0.991575   \n",
       "3  Afghanistan                AFG  2004  1.237247  0.091600  0.908672   \n",
       "4  Afghanistan                AFG  2005  1.889507  0.106256  1.447280   \n",
       "\n",
       "        Gas    Cement   Flaring  Other  Per Capita  \n",
       "0  0.208848  0.006538  0.021984    NaN    0.054300  \n",
       "1  0.547416  0.011033  0.000000    NaN    0.063856  \n",
       "2  0.466408  0.009807  0.000000    NaN    0.068871  \n",
       "3  0.227168  0.009807  0.000000    NaN    0.052529  \n",
       "4  0.329760  0.006211  0.000000    NaN    0.077403  "
      ]
     },
     "execution_count": 56,
     "metadata": {},
     "output_type": "execute_result"
    }
   ],
   "source": [
    "ems.head()"
   ]
  },
  {
   "cell_type": "code",
   "execution_count": 57,
   "metadata": {},
   "outputs": [],
   "source": [
    "# removing rows with null values in the ISO 3166-1 alpha-3 column\n",
    "rows_to_remove = ems[ems['ISO 3166-1 alpha-3'].isna()]['Country'].unique().tolist()\n",
    "ems = ems[~ems['Country'].isin(rows_to_remove)]"
   ]
  },
  {
   "cell_type": "code",
   "execution_count": 58,
   "metadata": {},
   "outputs": [],
   "source": [
    "# Define the list of columns to check for null values\n",
    "columns_to_check = ['Coal', 'Oil', 'Gas', 'Cement', 'Flaring', 'Other']\n",
    "\n",
    "# Remove rows where the specified columns have null values\n",
    "ems.dropna(subset=columns_to_check, how='all', inplace=True)"
   ]
  },
  {
   "cell_type": "code",
   "execution_count": 59,
   "metadata": {},
   "outputs": [
    {
     "data": {
      "text/plain": [
       "Country                  0\n",
       "ISO 3166-1 alpha-3       0\n",
       "Year                     0\n",
       "Total                    0\n",
       "Coal                    21\n",
       "Oil                      0\n",
       "Gas                     21\n",
       "Cement                 108\n",
       "Flaring                 21\n",
       "Other                 3653\n",
       "Per Capita              21\n",
       "dtype: int64"
      ]
     },
     "execution_count": 59,
     "metadata": {},
     "output_type": "execute_result"
    }
   ],
   "source": [
    "ems.isnull().sum()"
   ]
  },
  {
   "cell_type": "code",
   "execution_count": 60,
   "metadata": {},
   "outputs": [
    {
     "data": {
      "text/html": [
       "<div>\n",
       "<style scoped>\n",
       "    .dataframe tbody tr th:only-of-type {\n",
       "        vertical-align: middle;\n",
       "    }\n",
       "\n",
       "    .dataframe tbody tr th {\n",
       "        vertical-align: top;\n",
       "    }\n",
       "\n",
       "    .dataframe thead th {\n",
       "        text-align: right;\n",
       "    }\n",
       "</style>\n",
       "<table border=\"1\" class=\"dataframe\">\n",
       "  <thead>\n",
       "    <tr style=\"text-align: right;\">\n",
       "      <th></th>\n",
       "      <th>Country</th>\n",
       "      <th>ISO 3166-1 alpha-3</th>\n",
       "      <th>Year</th>\n",
       "      <th>Total</th>\n",
       "      <th>Coal</th>\n",
       "      <th>Oil</th>\n",
       "      <th>Gas</th>\n",
       "      <th>Cement</th>\n",
       "      <th>Flaring</th>\n",
       "      <th>Other</th>\n",
       "      <th>Per Capita</th>\n",
       "    </tr>\n",
       "  </thead>\n",
       "  <tbody>\n",
       "    <tr>\n",
       "      <th>4851</th>\n",
       "      <td>Global</td>\n",
       "      <td>WLD</td>\n",
       "      <td>2001</td>\n",
       "      <td>25668.048326</td>\n",
       "      <td>9255.256797</td>\n",
       "      <td>10390.668975</td>\n",
       "      <td>4773.584851</td>\n",
       "      <td>754.331663</td>\n",
       "      <td>281.128017</td>\n",
       "      <td>213.078023</td>\n",
       "      <td>4.119578</td>\n",
       "    </tr>\n",
       "    <tr>\n",
       "      <th>4852</th>\n",
       "      <td>Global</td>\n",
       "      <td>WLD</td>\n",
       "      <td>2002</td>\n",
       "      <td>26281.037468</td>\n",
       "      <td>9678.959137</td>\n",
       "      <td>10385.864180</td>\n",
       "      <td>4905.853640</td>\n",
       "      <td>796.052479</td>\n",
       "      <td>298.553835</td>\n",
       "      <td>215.754196</td>\n",
       "      <td>4.163394</td>\n",
       "    </tr>\n",
       "    <tr>\n",
       "      <th>4853</th>\n",
       "      <td>Global</td>\n",
       "      <td>WLD</td>\n",
       "      <td>2003</td>\n",
       "      <td>27651.596453</td>\n",
       "      <td>10518.463642</td>\n",
       "      <td>10679.654448</td>\n",
       "      <td>5081.468111</td>\n",
       "      <td>852.252693</td>\n",
       "      <td>299.375515</td>\n",
       "      <td>220.382043</td>\n",
       "      <td>4.324685</td>\n",
       "    </tr>\n",
       "    <tr>\n",
       "      <th>4854</th>\n",
       "      <td>Global</td>\n",
       "      <td>WLD</td>\n",
       "      <td>2004</td>\n",
       "      <td>28636.695037</td>\n",
       "      <td>10871.584335</td>\n",
       "      <td>11042.504634</td>\n",
       "      <td>5257.190057</td>\n",
       "      <td>910.566319</td>\n",
       "      <td>323.802545</td>\n",
       "      <td>231.047147</td>\n",
       "      <td>4.422142</td>\n",
       "    </tr>\n",
       "    <tr>\n",
       "      <th>4855</th>\n",
       "      <td>Global</td>\n",
       "      <td>WLD</td>\n",
       "      <td>2005</td>\n",
       "      <td>29614.602256</td>\n",
       "      <td>11543.334878</td>\n",
       "      <td>11139.399176</td>\n",
       "      <td>5380.665522</td>\n",
       "      <td>964.306101</td>\n",
       "      <td>345.094230</td>\n",
       "      <td>241.802350</td>\n",
       "      <td>4.515677</td>\n",
       "    </tr>\n",
       "  </tbody>\n",
       "</table>\n",
       "</div>"
      ],
      "text/plain": [
       "     Country ISO 3166-1 alpha-3  Year         Total          Coal  \\\n",
       "4851  Global                WLD  2001  25668.048326   9255.256797   \n",
       "4852  Global                WLD  2002  26281.037468   9678.959137   \n",
       "4853  Global                WLD  2003  27651.596453  10518.463642   \n",
       "4854  Global                WLD  2004  28636.695037  10871.584335   \n",
       "4855  Global                WLD  2005  29614.602256  11543.334878   \n",
       "\n",
       "               Oil          Gas      Cement     Flaring       Other  \\\n",
       "4851  10390.668975  4773.584851  754.331663  281.128017  213.078023   \n",
       "4852  10385.864180  4905.853640  796.052479  298.553835  215.754196   \n",
       "4853  10679.654448  5081.468111  852.252693  299.375515  220.382043   \n",
       "4854  11042.504634  5257.190057  910.566319  323.802545  231.047147   \n",
       "4855  11139.399176  5380.665522  964.306101  345.094230  241.802350   \n",
       "\n",
       "      Per Capita  \n",
       "4851    4.119578  \n",
       "4852    4.163394  \n",
       "4853    4.324685  \n",
       "4854    4.422142  \n",
       "4855    4.515677  "
      ]
     },
     "execution_count": 60,
     "metadata": {},
     "output_type": "execute_result"
    }
   ],
   "source": [
    "ems[ems.Country=='Global'].head()"
   ]
  },
  {
   "cell_type": "code",
   "execution_count": 61,
   "metadata": {},
   "outputs": [],
   "source": [
    "ems = ems[~ems['Country'].isin(['Global'])]"
   ]
  },
  {
   "cell_type": "code",
   "execution_count": 62,
   "metadata": {},
   "outputs": [
    {
     "data": {
      "text/html": [
       "<div>\n",
       "<style scoped>\n",
       "    .dataframe tbody tr th:only-of-type {\n",
       "        vertical-align: middle;\n",
       "    }\n",
       "\n",
       "    .dataframe tbody tr th {\n",
       "        vertical-align: top;\n",
       "    }\n",
       "\n",
       "    .dataframe thead th {\n",
       "        text-align: right;\n",
       "    }\n",
       "</style>\n",
       "<table border=\"1\" class=\"dataframe\">\n",
       "  <thead>\n",
       "    <tr style=\"text-align: right;\">\n",
       "      <th></th>\n",
       "      <th>Year</th>\n",
       "      <th>Coal</th>\n",
       "      <th>Oil</th>\n",
       "      <th>Gas</th>\n",
       "      <th>Cement</th>\n",
       "      <th>Flaring</th>\n",
       "      <th>Other</th>\n",
       "    </tr>\n",
       "  </thead>\n",
       "  <tbody>\n",
       "    <tr>\n",
       "      <th>0</th>\n",
       "      <td>2001</td>\n",
       "      <td>9255.256798</td>\n",
       "      <td>10390.668974</td>\n",
       "      <td>4773.584850</td>\n",
       "      <td>754.331664</td>\n",
       "      <td>281.128018</td>\n",
       "      <td>213.078025</td>\n",
       "    </tr>\n",
       "    <tr>\n",
       "      <th>1</th>\n",
       "      <td>2002</td>\n",
       "      <td>9678.959137</td>\n",
       "      <td>10385.864176</td>\n",
       "      <td>4905.853641</td>\n",
       "      <td>796.052479</td>\n",
       "      <td>298.553838</td>\n",
       "      <td>215.754198</td>\n",
       "    </tr>\n",
       "    <tr>\n",
       "      <th>2</th>\n",
       "      <td>2003</td>\n",
       "      <td>10518.463643</td>\n",
       "      <td>10679.654450</td>\n",
       "      <td>5081.468111</td>\n",
       "      <td>852.252690</td>\n",
       "      <td>299.375519</td>\n",
       "      <td>220.382040</td>\n",
       "    </tr>\n",
       "    <tr>\n",
       "      <th>3</th>\n",
       "      <td>2004</td>\n",
       "      <td>10871.584333</td>\n",
       "      <td>11042.504634</td>\n",
       "      <td>5257.190056</td>\n",
       "      <td>910.566322</td>\n",
       "      <td>323.802542</td>\n",
       "      <td>231.047146</td>\n",
       "    </tr>\n",
       "    <tr>\n",
       "      <th>4</th>\n",
       "      <td>2005</td>\n",
       "      <td>11543.334876</td>\n",
       "      <td>11139.399176</td>\n",
       "      <td>5380.665520</td>\n",
       "      <td>964.306102</td>\n",
       "      <td>345.094230</td>\n",
       "      <td>241.802353</td>\n",
       "    </tr>\n",
       "  </tbody>\n",
       "</table>\n",
       "</div>"
      ],
      "text/plain": [
       "   Year          Coal           Oil          Gas      Cement     Flaring  \\\n",
       "0  2001   9255.256798  10390.668974  4773.584850  754.331664  281.128018   \n",
       "1  2002   9678.959137  10385.864176  4905.853641  796.052479  298.553838   \n",
       "2  2003  10518.463643  10679.654450  5081.468111  852.252690  299.375519   \n",
       "3  2004  10871.584333  11042.504634  5257.190056  910.566322  323.802542   \n",
       "4  2005  11543.334876  11139.399176  5380.665520  964.306102  345.094230   \n",
       "\n",
       "        Other  \n",
       "0  213.078025  \n",
       "1  215.754198  \n",
       "2  220.382040  \n",
       "3  231.047146  \n",
       "4  241.802353  "
      ]
     },
     "execution_count": 62,
     "metadata": {},
     "output_type": "execute_result"
    }
   ],
   "source": [
    "ems.groupby('Year')[['Coal', 'Oil', 'Gas', 'Cement', 'Flaring', 'Other']].sum().reset_index().head()"
   ]
  },
  {
   "attachments": {},
   "cell_type": "markdown",
   "metadata": {},
   "source": [
    "#### EDA"
   ]
  },
  {
   "cell_type": "code",
   "execution_count": 99,
   "metadata": {},
   "outputs": [
    {
     "data": {
      "image/png": "[encoded data removed]",
      "text/plain": [
       "<Figure size 1000x600 with 1 Axes>"
      ]
     },
     "metadata": {},
     "output_type": "display_data"
    }
   ],
   "source": [
    "import matplotlib.pyplot as plt\n",
    "import seaborn as sns\n",
    "\n",
    "# Prepare the data\n",
    "emissions_by_fuel_type = ems.groupby('Year')[['Coal', 'Oil', 'Gas', 'Cement', 'Flaring', 'Other']].sum().reset_index()\n",
    "\n",
    "\n",
    "# Set up the plot\n",
    "#sns.set_style('whitegrid', {'axes.grid': True, 'axes.grid.axis': 'y', 'xtick.bottom': True, 'ytick.left': True})\n",
    "sns.set_style('whitegrid', {'axes.grid': False, 'axes.grid.axis': 'y', 'xtick.bottom': True, 'ytick.left': True})\n",
    "\n",
    "fig, ax = plt.subplots(figsize=(10, 6))\n",
    "\n",
    "# Plot the data\n",
    "ax.fill_between(emissions_by_fuel_type['Year'], emissions_by_fuel_type['Coal'], color='#3079b9', label='Coal', alpha=0.8)\n",
    "ax.fill_between(emissions_by_fuel_type['Year'], emissions_by_fuel_type['Oil'], color='#ff8c31', label='Oil', alpha=0.8)\n",
    "ax.fill_between(emissions_by_fuel_type['Year'], emissions_by_fuel_type['Gas'], color='#3cbf3c', label='Gas', alpha=0.6)\n",
    "ax.fill_between(emissions_by_fuel_type['Year'], emissions_by_fuel_type['Cement'], color='#e2393f', label='Cement', alpha=0.6)\n",
    "\n",
    "# Customize the plot\n",
    "ax.set_xticks(emissions_by_fuel_type['Year'])\n",
    "ax.set_xticklabels(emissions_by_fuel_type['Year'], rotation=-45)\n",
    "\n",
    "# Set the x-axis limits to the minimum and maximum years\n",
    "ax.set_xlim(emissions_by_fuel_type['Year'].min(), emissions_by_fuel_type['Year'].max())\n",
    "\n",
    "ax.set_yticks([4e3, 8e3, 12e3, 16e3])\n",
    "ax.set_yticklabels(['4 Gt', '8 Gt', '12 Gt', '16 Gt'])\n",
    "ax.set_ylim(0, 20e3)\n",
    "ax.set_ylabel('CO2 emission(Gigatons)', fontsize=14)\n",
    "\n",
    "\n",
    "# Add text annotations\n",
    "ax.text(2012, 13e3, 'Coal', color='white', size=14)\n",
    "ax.text(2014, 9e3, 'Oil', color='white', size=14)\n",
    "ax.text(2017, 4.3e3, 'Gas', color='white', size=14)\n",
    "ax.text(2019, 0.8e3, 'Cement', color='white', size=14)\n",
    "\n",
    "# Set the horizontal grid\n",
    "plt.grid(axis='y')\n",
    "plt.title('CO2 Emissions by Fuel Type(2000-2021)', fontsize=16)\n",
    "plt.tight_layout()\n",
    "plt.show()\n"
   ]
  },
  {
   "attachments": {},
   "cell_type": "markdown",
   "metadata": {},
   "source": [
    "### YourName 2"
   ]
  },
  {
   "cell_type": "code",
   "execution_count": null,
   "metadata": {},
   "outputs": [],
   "source": []
  },
  {
   "cell_type": "code",
   "execution_count": 1,
   "metadata": {},
   "outputs": [],
   "source": [
    "# Insert your code here"
   ]
  },
  {
   "attachments": {},
   "cell_type": "markdown",
   "metadata": {},
   "source": [
    "### YourName 3"
   ]
  },
  {
   "cell_type": "code",
   "execution_count": null,
   "metadata": {},
   "outputs": [],
   "source": [
    "# Insert your code here"
   ]
  },
  {
   "attachments": {},
   "cell_type": "markdown",
   "metadata": {},
   "source": [
    "### YourName 4"
   ]
  },
  {
   "cell_type": "code",
   "execution_count": null,
   "metadata": {},
   "outputs": [],
   "source": [
    "# Insert your code here"
   ]
  }
 ],
 "metadata": {
  "kernelspec": {
   "display_name": "Python 3",
   "language": "python",
   "name": "python3"
  },
  "language_info": {
   "codemirror_mode": {
    "name": "ipython",
    "version": 3
   },
   "file_extension": ".py",
   "mimetype": "text/x-python",
   "name": "python",
   "nbconvert_exporter": "python",
   "pygments_lexer": "ipython3",
   "version": "3.10.10"
  },
  "orig_nbformat": 4,
  "vscode": {
   "interpreter": {
    "hash": "b0fa6594d8f4cbf19f97940f81e996739fb7646882a419484c72d19e05852a7e"
   }
  }
 },
 "nbformat": 4,
 "nbformat_minor": 2
}
