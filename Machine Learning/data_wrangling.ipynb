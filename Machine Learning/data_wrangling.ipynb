{
 "cells": [
  {
   "cell_type": "code",
   "execution_count": 135,
   "metadata": {},
   "outputs": [],
   "source": [
    "import pandas as pd\n",
    "import numpy as np\n",
    "import matplotlib.pyplot as plt \n",
    "import re\n",
    "import pandasql as ps\n",
    "from tslearn.clustering import TimeSeriesKMeans\n",
    "from tslearn.utils import to_time_series_dataset\n",
    "from sklearn.preprocessing import StandardScaler\n",
    "from tslearn.preprocessing import TimeSeriesScalerMeanVariance"
   ]
  },
  {
   "cell_type": "code",
   "execution_count": 69,
   "metadata": {},
   "outputs": [],
   "source": [
    "# reading the datasets from the directory Datasets/SocioEconomic\n",
    "# read the pop_stab dataframe up to 214 rows only\n",
    "pop_stab =  pd.read_csv('../Datasets/SocioEconomic/political_stability_1996_2021.csv', nrows=214, na_values='..')\n",
    "pop =  pd.read_csv('../Datasets/SocioEconomic/population_1960_2021.csv', na_values='..')\n",
    "urban_pop =  pd.read_csv('../Datasets/SocioEconomic/Urban_pop_WorldBank_1960_2021.csv', skiprows=4)\n",
    "gdp =  pd.read_csv('../Datasets/SocioEconomic/GDP_1960_2021.csv', na_values='..')\n",
    "oil_prices = pd.read_csv('../Datasets/SocioEconomic/crude_oil_price_1983_2023.csv')\n",
    "inflation =  pd.read_csv('../Datasets/SocioEconomic/Inflation_data_1970_2022.csv', encoding='ISO-8859-1')\n",
    "co2_emission = pd.read_csv('../Datasets/SocioEconomic/co2_emission_2021.csv')\n",
    "migration = pd.read_csv('../Datasets/SocioEconomic/migration_1960_2021.csv')\n",
    "hdi_le = pd.read_csv('../Datasets/SocioEconomic/HDI_LE_1990_2021.csv')\n",
    "country_codes = pd.read_csv('../Datasets/SocioEconomic/UN_country_code.csv')"
   ]
  },
  {
   "attachments": {},
   "cell_type": "markdown",
   "metadata": {},
   "source": [
    "## Cleaning Datasets\n",
    "### Political Stability\n",
    "\n",
    "The dataset under consideration contains information about the \"Political Stability and Absence of Violence/Terrorism\" index for various countries from the year 1996 to 2021. The index, coded as 'PV.EST', is measured on a scale from -2.5 to 2.5, with a higher value indicating more stable political conditions and less violence or terrorism. A lower score indicates a less stable political environment and higher levels of violence or terrorism.\n",
    "\n",
    "The dataset includes 214 countries. Our data cleaning and preparation steps include:\n",
    "\n",
    "- **Renaming columns**: The year columns are initially named in the format 'YYYY [YRYYYY]'. We rename these to just 'YYYY' for simplicity and ease of access.\n",
    "\n",
    "- **Data type conversion**: We ensure that the values in the year columns are of numeric type (float) for proper analysis.\n",
    "\n",
    "- **Handling missing years**: Our dataset does not include data for the years 1997, 1999, and 2001. We handle this by computing the missing values as the average of the previous and following years. This is done under the assumption that the political stability index changes smoothly over time.\n",
    "\n",
    "- **Sorting columns**: After inserting the missing years, we sort our columns to maintain a chronological order of years.\n",
    "\n"
   ]
  },
  {
   "cell_type": "code",
   "execution_count": 70,
   "metadata": {},
   "outputs": [],
   "source": [
    "# defining a list of countries\n",
    "#countries_of_interest = ['USA', 'CHN', 'KOR']\n",
    "# get all the rows for each country of interest\n",
    "#pop_stab = pop_stab[pop_stab['Country Code'].isin(countries_of_interest)]\n",
    "# renaming the columns by removing [YR]\n",
    "pop_stab = pop_stab.rename(columns={col: re.sub(r'\\s*\\[YR.*\\]', '', col) for col in pop_stab.columns[4:]})\n",
    "# Change the type of year columns to float\n",
    "for col in pop_stab.columns[4:]:\n",
    "    pop_stab[col] = pop_stab[col].astype(float)"
   ]
  },
  {
   "cell_type": "code",
   "execution_count": 71,
   "metadata": {},
   "outputs": [],
   "source": [
    "pop_stab = pop_stab.rename(columns={col: re.sub(r'\\s*\\[YR.*\\]', '', col) for col in pop_stab.columns[4:]})\n"
   ]
  },
  {
   "cell_type": "code",
   "execution_count": 72,
   "metadata": {},
   "outputs": [],
   "source": [
    "# As you can see above, certain years are missing from the columns\n",
    "missing_years = [1997, 1999, 2001]"
   ]
  },
  {
   "cell_type": "code",
   "execution_count": 73,
   "metadata": {},
   "outputs": [],
   "source": [
    "def insert_missing_years(df, missing_years):\n",
    "    for year in missing_years:\n",
    "        prev_year = str(year - 1)\n",
    "        next_year = str(year + 1)\n",
    "\n",
    "        # Check if previous and next year columns exist\n",
    "        if prev_year in df.columns and next_year in df.columns:\n",
    "            df[prev_year] = pd.to_numeric(df[prev_year], errors='coerce')\n",
    "            df[next_year] = pd.to_numeric(df[next_year], errors='coerce')\n",
    "            df[str(year)] = (df[prev_year] + df[next_year]) / 2\n",
    "        else:\n",
    "            print(f\"Cannot compute for year {year}, adjacent years data are not available.\")\n",
    "        \n",
    "    # Sort the columns\n",
    "    non_year_cols = [\"Country Name\", \"Country Code\", \"Series Name\", \"Series Code\"]\n",
    "    year_cols = [str(i) for i in sorted(int(col) for col in df.columns if col.isdigit())]\n",
    "    cols = non_year_cols + year_cols\n",
    "    \n",
    "    return df.reindex(columns=cols)\n",
    "\n",
    "pop_stab = insert_missing_years(pop_stab, missing_years)"
   ]
  },
  {
   "cell_type": "code",
   "execution_count": 74,
   "metadata": {},
   "outputs": [
    {
     "name": "stdout",
     "output_type": "stream",
     "text": [
      "<class 'pandas.core.frame.DataFrame'>\n",
      "RangeIndex: 214 entries, 0 to 213\n",
      "Data columns (total 30 columns):\n",
      " #   Column        Non-Null Count  Dtype  \n",
      "---  ------        --------------  -----  \n",
      " 0   Country Name  214 non-null    object \n",
      " 1   Country Code  214 non-null    object \n",
      " 2   Series Name   214 non-null    object \n",
      " 3   Series Code   214 non-null    object \n",
      " 4   1996          189 non-null    float64\n",
      " 5   1997          189 non-null    float64\n",
      " 6   1998          189 non-null    float64\n",
      " 7   1999          189 non-null    float64\n",
      " 8   2000          190 non-null    float64\n",
      " 9   2001          190 non-null    float64\n",
      " 10  2002          190 non-null    float64\n",
      " 11  2003          200 non-null    float64\n",
      " 12  2004          207 non-null    float64\n",
      " 13  2005          207 non-null    float64\n",
      " 14  2006          208 non-null    float64\n",
      " 15  2007          208 non-null    float64\n",
      " 16  2008          209 non-null    float64\n",
      " 17  2009          212 non-null    float64\n",
      " 18  2010          212 non-null    float64\n",
      " 19  2011          212 non-null    float64\n",
      " 20  2012          212 non-null    float64\n",
      " 21  2013          212 non-null    float64\n",
      " 22  2014          211 non-null    float64\n",
      " 23  2015          211 non-null    float64\n",
      " 24  2016          211 non-null    float64\n",
      " 25  2017          211 non-null    float64\n",
      " 26  2018          213 non-null    float64\n",
      " 27  2019          213 non-null    float64\n",
      " 28  2020          213 non-null    float64\n",
      " 29  2021          213 non-null    float64\n",
      "dtypes: float64(26), object(4)\n",
      "memory usage: 50.3+ KB\n"
     ]
    }
   ],
   "source": [
    "pop_stab.info()"
   ]
  },
  {
   "cell_type": "code",
   "execution_count": 75,
   "metadata": {},
   "outputs": [],
   "source": [
    "pop_stab.loc[:, '1996':] = pop_stab.loc[:, '1996':].bfill(axis=1)"
   ]
  },
  {
   "attachments": {},
   "cell_type": "markdown",
   "metadata": {},
   "source": [
    "#### Population & Urban Population\n",
    "\n",
    "##### Population\n",
    "The dataset under consideration contains information about the total population of various countries from the year 1960 to 2021. For our purposes, we're interested in the population data for three specific countries: USA, China (CHN), and South Korea (KOR).\n",
    "\n",
    "Our data cleaning and preparation steps for the population data include:\n",
    "\n",
    "- **Country selection**: We're focusing our analysis on three specific countries (USA, CHN, KOR). We filter the population data to include only these countries.\n",
    "\n",
    "- **Renaming columns**: The year columns in the population data are initially named in the format 'YYYY [YRYYYY]'. We rename these to just 'YYYY' for simplicity and ease of access.\n",
    "\n",
    "- **Data type conversion**: We ensure that the values in the year columns are of numeric type (float) for proper analysis.\n",
    "\n",
    "Once these steps are complete, we have a clean and concise dataframe that contains the population data for each year for the three countries of interest.\n"
   ]
  },
  {
   "cell_type": "code",
   "execution_count": 76,
   "metadata": {},
   "outputs": [],
   "source": [
    "# get all the rows for each country of interest\n",
    "#pop = pop[pop['Country Code'].isin(countries_of_interest)]\n",
    "# removing the null values\n",
    "pop = pop.dropna()\n",
    "# renaming the columns by removing [YR]\n",
    "pop = pop.rename(columns={col: re.sub(r'\\s*\\[YR.*\\]', '', col) for col in pop.columns})\n",
    "# Change the type of year columns to float\n",
    "for col in pop.columns[4:]:\n",
    "    pop[col] = pop[col].astype(float)"
   ]
  },
  {
   "attachments": {},
   "cell_type": "markdown",
   "metadata": {},
   "source": [
    "##### Urban Population Data\n",
    "\n",
    "The dataset under consideration contains information about the percentage of the total population living in urban areas for various countries from the year 1960 to 2021. For our purposes, we're interested in the urban population data for three specific countries: USA, China (CHN), and South Korea (KOR).\n",
    "\n",
    "Our data cleaning and preparation steps for the urban population data include:\n",
    "\n",
    "- **Country selection**: We're focusing our analysis on three specific countries (USA, CHN, KOR). We filter the urban population data to include only these countries.\n",
    "\n",
    "- **Data type conversion**: We ensure that the values in the year columns are of numeric type (float) for proper analysis.\n",
    "\n",
    "Once these steps are complete, we have a clean and concise dataframe that contains the urban population data for each year for the three countries of interest.\n"
   ]
  },
  {
   "cell_type": "code",
   "execution_count": 77,
   "metadata": {},
   "outputs": [],
   "source": [
    "# get all the rows for each country of interest\n",
    "#urban_pop = urban_pop[urban_pop['Country Code'].isin(countries_of_interest)]\n",
    "# removing the null values\n",
    "urban_pop = urban_pop.dropna()\n",
    "# Change the type of year columns to float\n",
    "for col in urban_pop.columns[4:]:\n",
    "    urban_pop[col] = urban_pop[col].astype(float)"
   ]
  },
  {
   "attachments": {},
   "cell_type": "markdown",
   "metadata": {},
   "source": [
    "### Human Development Index (HDI) and Life Expectancy (LE)\n",
    "\n",
    "The dataset under consideration contains information about the Human Development Index (HDI) and Life Expectancy (LE) from the year 1990 to 2021. For our purposes, we're interested in the HDI and LE data for a set of specific countries.\n",
    "\n",
    "Our data cleaning and preparation steps for the HDI and LE data include:\n",
    "\n",
    "- **Filtering Columns**: We're interested in the data from 1996 to 2021, so we filter our dataset to include only these years. \n",
    "\n",
    "- **Renaming columns**: We rename the 'iso3' column to 'Country Code' and 'country' column to 'Country Name' for consistency with our other datasets.\n",
    "\n",
    "- **Removing Prefix**: The columns in the dataset are initially named in the format 'hdi_YYYY' and 'le_YYYY' for HDI and LE respectively. We remove these prefixes for simplicity and ease of access.\n",
    "\n",
    "Once these steps are complete, we have two clean and concise dataframes that contain the HDI and LE data for each year for our countries of interest.\n"
   ]
  },
  {
   "cell_type": "code",
   "execution_count": 78,
   "metadata": {},
   "outputs": [],
   "source": [
    "# Filter the columns to include only those related to HDI\n",
    "hdi_columns = ['iso3', 'country'] + [f'hdi_{year}' for year in range(1996, 2022)]\n",
    "hdi_data = hdi_le[hdi_columns].copy()\n",
    "\n",
    "# Rename the columns\n",
    "hdi_data.rename(columns={'iso3': 'Country Code', 'country': 'Country Name'}, inplace=True)\n",
    "\n",
    "# Remove 'hdi_' prefix from the columns in the HDI dataframe\n",
    "hdi_data.columns = hdi_data.columns.str.replace('hdi_', '')\n",
    "\n",
    "# Fill the missing values using backward fill\n",
    "hdi_data.loc[:, '1996':] = hdi_data.loc[:, '1996':].bfill(axis=1)\n",
    "\n",
    "# remove some invalid countries\n",
    "hdi_data = hdi_data.dropna()"
   ]
  },
  {
   "cell_type": "code",
   "execution_count": 79,
   "metadata": {},
   "outputs": [],
   "source": [
    "# Filter the columns to include only those related to Life expectancy\n",
    "le_columns = ['iso3', 'country'] + [f'le_{year}' for year in range(1996, 2022)]\n",
    "le_data = hdi_le[le_columns].copy()\n",
    "\n",
    "# Rename the columns\n",
    "le_data.rename(columns={'iso3': 'Country Code', 'country': 'Country Name'}, inplace=True)\n",
    "\n",
    "# Remove 'le_' prefix from the columns in the Life expectancy dataframe\n",
    "le_data.columns = le_data.columns.str.replace('le_', '')"
   ]
  },
  {
   "attachments": {},
   "cell_type": "markdown",
   "metadata": {},
   "source": [
    "### Gross Domestic Product\n",
    "\n",
    "The GDP dataset under analysis contains information about the Gross Domestic Product for various countries for a range of years. GDP is a measure of the economic output of a country.\n",
    "\n",
    "As with the \"Political Stability\" and \"Human Development Index and Life Expectancy\" datasets, we will focus on three specific countries: USA, China (CHN), and South Korea (KOR).\n",
    "\n",
    "Our data cleaning and preparation steps for the GDP data include:\n",
    "\n",
    "- **Country selection**: We're focusing our analysis on three specific countries (USA, CHN, KOR). We filter the GDP data to include only these countries.\n",
    "\n",
    "- **Renaming columns**: The year columns in the GDP data are initially named in the format 'YYYY [YRYYYY]'. We rename these to just 'YYYY' for simplicity and ease of access.\n",
    "\n",
    "- **Data type conversion**: We ensure that the values in the year columns are of numeric type (float) for proper analysis.\n",
    "\n",
    "Again, it's important to visualize the data after cleaning to confirm that it's in the correct format and to identify any anomalies that might require further cleaning.\n"
   ]
  },
  {
   "cell_type": "code",
   "execution_count": 80,
   "metadata": {},
   "outputs": [],
   "source": [
    "# get all the rows for each country of interest\n",
    "#gdp = gdp[gdp['Country Code'].isin(countries_of_interest)]\n",
    "# renaming the columns by removing [YR]\n",
    "gdp = gdp.rename(columns={col: re.sub(r'\\s*\\[YR.*\\]', '', col) for col in gdp.columns[4:]})\n",
    "# Change the type of year columns to float\n",
    "for col in gdp.columns[4:]:\n",
    "    gdp[col] = gdp[col].astype(float)\n",
    "\n",
    "# Filter columns\n",
    "cols = [col for col in gdp.columns if (col.isdigit() and int(col) >= 1996) or not col.isdigit()]\n",
    "\n",
    "# Select those columns from gdp\n",
    "gdp = gdp[cols]"
   ]
  },
  {
   "cell_type": "code",
   "execution_count": 81,
   "metadata": {},
   "outputs": [],
   "source": [
    "# Fill the null years using backward fill\n",
    "gdp.loc[:, '1996':] = gdp.loc[:, '1996':].bfill(axis=1).ffill(axis=1)\n",
    "# remocet the rest of null values\n",
    "gdp = gdp.dropna()"
   ]
  },
  {
   "cell_type": "code",
   "execution_count": null,
   "metadata": {},
   "outputs": [],
   "source": []
  },
  {
   "attachments": {},
   "cell_type": "markdown",
   "metadata": {},
   "source": [
    "### Crude Oil Prices\n",
    "\n",
    "The dataset under consideration contains information about the crude oil prices from the year 1983 to 2023. The data includes the date of observation, the price of crude oil on that date, the percentage change in price from the previous date, and the absolute change in price from the previous date.\n",
    "\n",
    "Our data cleaning and preparation steps for the crude oil prices data include:\n",
    "\n",
    "- **Date conversion**: The 'date' column in the data is converted into datetime format for easier manipulation and analysis.\n",
    "\n",
    "- **Year extraction**: A new 'year' column is created by extracting the year from the 'date' column. This allows for annual analysis of the data.\n",
    "\n",
    "- **Calculating average annual price**: The data is then grouped by 'year', and the average price of crude oil for each year is calculated. This results in a new dataframe that shows the average price of crude oil for each year.\n",
    "\n",
    "After these steps, we have a concise and tidy dataframe that contains the average price of crude oil for each year from 1983 to 2023.\n",
    "\n"
   ]
  },
  {
   "cell_type": "code",
   "execution_count": 82,
   "metadata": {},
   "outputs": [
    {
     "data": {
      "text/html": [
       "<div>\n",
       "<style scoped>\n",
       "    .dataframe tbody tr th:only-of-type {\n",
       "        vertical-align: middle;\n",
       "    }\n",
       "\n",
       "    .dataframe tbody tr th {\n",
       "        vertical-align: top;\n",
       "    }\n",
       "\n",
       "    .dataframe thead th {\n",
       "        text-align: right;\n",
       "    }\n",
       "</style>\n",
       "<table border=\"1\" class=\"dataframe\">\n",
       "  <thead>\n",
       "    <tr style=\"text-align: right;\">\n",
       "      <th></th>\n",
       "      <th>Year</th>\n",
       "      <th>price</th>\n",
       "    </tr>\n",
       "  </thead>\n",
       "  <tbody>\n",
       "    <tr>\n",
       "      <th>0</th>\n",
       "      <td>1983</td>\n",
       "      <td>30.468000</td>\n",
       "    </tr>\n",
       "    <tr>\n",
       "      <th>1</th>\n",
       "      <td>1984</td>\n",
       "      <td>29.240833</td>\n",
       "    </tr>\n",
       "    <tr>\n",
       "      <th>2</th>\n",
       "      <td>1985</td>\n",
       "      <td>27.873333</td>\n",
       "    </tr>\n",
       "    <tr>\n",
       "      <th>3</th>\n",
       "      <td>1986</td>\n",
       "      <td>14.413333</td>\n",
       "    </tr>\n",
       "    <tr>\n",
       "      <th>4</th>\n",
       "      <td>1987</td>\n",
       "      <td>19.036667</td>\n",
       "    </tr>\n",
       "  </tbody>\n",
       "</table>\n",
       "</div>"
      ],
      "text/plain": [
       "   Year      price\n",
       "0  1983  30.468000\n",
       "1  1984  29.240833\n",
       "2  1985  27.873333\n",
       "3  1986  14.413333\n",
       "4  1987  19.036667"
      ]
     },
     "execution_count": 82,
     "metadata": {},
     "output_type": "execute_result"
    }
   ],
   "source": [
    "# Convert the 'date' column to datetime format\n",
    "oil_prices['date'] = pd.to_datetime(oil_prices['date'])\n",
    "\n",
    "# Extract the year from the 'date' column and create a new 'year' column\n",
    "oil_prices['Year'] = oil_prices['date'].dt.year\n",
    "\n",
    "# Group the data by 'year' and calculate the average 'price'\n",
    "avg_oil_price = oil_prices.groupby('Year')['price'].mean().reset_index()\n",
    "\n",
    "# Display the average oil price data\n",
    "avg_oil_price.head()"
   ]
  },
  {
   "cell_type": "code",
   "execution_count": 83,
   "metadata": {},
   "outputs": [
    {
     "data": {
      "image/png": "[encoded data removed]",
      "text/plain": [
       "<Figure size 1400x600 with 2 Axes>"
      ]
     },
     "metadata": {},
     "output_type": "display_data"
    }
   ],
   "source": [
    "# Plot the original oil prices over time\n",
    "plt.figure(figsize=(14, 6))\n",
    "plt.subplot(1, 2, 1)\n",
    "plt.plot(oil_prices['date'], oil_prices['price'], label='Original Data')\n",
    "plt.title('Original Oil Prices Over Time')\n",
    "plt.xlabel('Year')\n",
    "plt.ylabel('Oil Price')\n",
    "plt.grid(True)\n",
    "\n",
    "# Plot the average oil prices per year\n",
    "plt.subplot(1, 2, 2)\n",
    "plt.plot(avg_oil_price['Year'], avg_oil_price['price'], label='Average per Year', color='orange')\n",
    "plt.title('Average Oil Prices Per Year')\n",
    "plt.xlabel('Year')\n",
    "plt.ylabel('Average Oil Price')\n",
    "plt.grid(True)\n",
    "\n",
    "plt.tight_layout()\n",
    "plt.show()"
   ]
  },
  {
   "attachments": {},
   "cell_type": "markdown",
   "metadata": {},
   "source": [
    "### Inflation Data\n",
    "\n",
    "The dataset under consideration contains information about various inflation indicators for a range of countries over a number of years. For our purposes, we're interested in the \"Headline Consumer Price Inflation\" for three specific countries: USA, China (CHN), and South Korea (KOR).\n",
    "\n",
    "Our data cleaning and preparation steps for the inflation data include:\n",
    "\n",
    "- **Country selection**: We're focusing our analysis on three specific countries (USA, CHN, KOR). We filter the inflation data to include only these countries.\n",
    "\n",
    "- **Indicator selection**: We're interested in the \"Headline Consumer Price Inflation\" indicator. We filter the data to include only this indicator.\n",
    "\n",
    "- **Removing unnecessary columns**: We remove columns that are not relevant to our analysis.\n",
    "\n",
    "- **Renaming columns**: We rename the 'Country' column to 'Country Name' for consistency with our other datasets.\n",
    "\n",
    "- **Data type conversion**: We ensure that the values in the year columns are of numeric type (float) for proper analysis.\n",
    "\n",
    "Once these steps are complete, we have a clean and concise dataframe that contains the \"Headline Consumer Price Inflation\" for each year for the three countries of interest."
   ]
  },
  {
   "cell_type": "code",
   "execution_count": 84,
   "metadata": {},
   "outputs": [],
   "source": [
    "# get all the rows for each country of interest\n",
    "#inflation = inflation[inflation['Country Code'].isin(countries_of_interest)]\n",
    "# consider only Headline Consumer Price Inflation\n",
    "inflation = inflation[inflation['Series Name'] == 'Headline Consumer Price Inflation']\n",
    "inflation.drop(inflation.columns[-6:], axis=1, inplace=True)\n",
    "# renaming the 'Country' column to be consistent\n",
    "inflation = inflation.rename(columns={'Country': 'Country Name'})\n",
    "# Change the type of year columns to float\n",
    "for col in inflation.columns[5:]:\n",
    "    inflation[col] = inflation[col].astype(float)"
   ]
  },
  {
   "cell_type": "code",
   "execution_count": 85,
   "metadata": {},
   "outputs": [],
   "source": [
    "# Filter columns\n",
    "cols = [col for col in inflation.columns if (col.isdigit() and int(col) >= 1996) or not col.isdigit()]\n",
    "\n",
    "# Select those columns from inflation\n",
    "inflation = inflation[cols]"
   ]
  },
  {
   "cell_type": "code",
   "execution_count": 86,
   "metadata": {},
   "outputs": [],
   "source": [
    "# Select the columns that you want to operate on\n",
    "year_cols = inflation.columns[5:]\n",
    "\n",
    "# Replace NaN values with row mean\n",
    "inflation.loc[:, year_cols] = inflation.loc[:, year_cols].apply(lambda x: x.fillna(x.mean()), axis=1)\n",
    "\n",
    "# Get rid of the rest of the NaN values\n",
    "inflation = inflation.dropna()"
   ]
  },
  {
   "attachments": {},
   "cell_type": "markdown",
   "metadata": {},
   "source": [
    "### Migration"
   ]
  },
  {
   "cell_type": "code",
   "execution_count": 87,
   "metadata": {},
   "outputs": [],
   "source": [
    "migration.rename(columns={'country_code': 'Country Code', 'country_name': 'Country Name', \n",
    "                          'year': 'Year', 'value': 'Migration'}, inplace=True)"
   ]
  },
  {
   "cell_type": "code",
   "execution_count": 88,
   "metadata": {},
   "outputs": [
    {
     "data": {
      "text/html": [
       "<div>\n",
       "<style scoped>\n",
       "    .dataframe tbody tr th:only-of-type {\n",
       "        vertical-align: middle;\n",
       "    }\n",
       "\n",
       "    .dataframe tbody tr th {\n",
       "        vertical-align: top;\n",
       "    }\n",
       "\n",
       "    .dataframe thead th {\n",
       "        text-align: right;\n",
       "    }\n",
       "</style>\n",
       "<table border=\"1\" class=\"dataframe\">\n",
       "  <thead>\n",
       "    <tr style=\"text-align: right;\">\n",
       "      <th></th>\n",
       "      <th>Country Code</th>\n",
       "      <th>Country Name</th>\n",
       "      <th>Year</th>\n",
       "      <th>Migration</th>\n",
       "    </tr>\n",
       "  </thead>\n",
       "  <tbody>\n",
       "    <tr>\n",
       "      <th>0</th>\n",
       "      <td>ABW</td>\n",
       "      <td>Aruba</td>\n",
       "      <td>1960</td>\n",
       "      <td>0.0</td>\n",
       "    </tr>\n",
       "    <tr>\n",
       "      <th>1</th>\n",
       "      <td>ABW</td>\n",
       "      <td>Aruba</td>\n",
       "      <td>1961</td>\n",
       "      <td>-569.0</td>\n",
       "    </tr>\n",
       "    <tr>\n",
       "      <th>2</th>\n",
       "      <td>ABW</td>\n",
       "      <td>Aruba</td>\n",
       "      <td>1962</td>\n",
       "      <td>-609.0</td>\n",
       "    </tr>\n",
       "    <tr>\n",
       "      <th>3</th>\n",
       "      <td>ABW</td>\n",
       "      <td>Aruba</td>\n",
       "      <td>1963</td>\n",
       "      <td>-646.0</td>\n",
       "    </tr>\n",
       "    <tr>\n",
       "      <th>4</th>\n",
       "      <td>ABW</td>\n",
       "      <td>Aruba</td>\n",
       "      <td>1964</td>\n",
       "      <td>-684.0</td>\n",
       "    </tr>\n",
       "  </tbody>\n",
       "</table>\n",
       "</div>"
      ],
      "text/plain": [
       "  Country Code Country Name  Year  Migration\n",
       "0          ABW        Aruba  1960        0.0\n",
       "1          ABW        Aruba  1961     -569.0\n",
       "2          ABW        Aruba  1962     -609.0\n",
       "3          ABW        Aruba  1963     -646.0\n",
       "4          ABW        Aruba  1964     -684.0"
      ]
     },
     "execution_count": 88,
     "metadata": {},
     "output_type": "execute_result"
    }
   ],
   "source": [
    "migration.head()"
   ]
  },
  {
   "attachments": {},
   "cell_type": "markdown",
   "metadata": {},
   "source": [
    "### CO2 Emissions"
   ]
  },
  {
   "cell_type": "code",
   "execution_count": 89,
   "metadata": {},
   "outputs": [],
   "source": [
    "# Renaming the columns for consistency\n",
    "co2_emission.rename(columns={'Annual CO₂ emissions': 'co2_emission', \n",
    "                             'Code': 'Country Code',\n",
    "                             'Entity': 'Country Name'}, inplace=True)\n",
    "\n",
    "# Getting the emission data after the year 1996 and onwards\n",
    "co2_emission = co2_emission.query(\"Year >= 1996\")"
   ]
  },
  {
   "cell_type": "code",
   "execution_count": 90,
   "metadata": {},
   "outputs": [
    {
     "data": {
      "text/html": [
       "<div>\n",
       "<style scoped>\n",
       "    .dataframe tbody tr th:only-of-type {\n",
       "        vertical-align: middle;\n",
       "    }\n",
       "\n",
       "    .dataframe tbody tr th {\n",
       "        vertical-align: top;\n",
       "    }\n",
       "\n",
       "    .dataframe thead th {\n",
       "        text-align: right;\n",
       "    }\n",
       "</style>\n",
       "<table border=\"1\" class=\"dataframe\">\n",
       "  <thead>\n",
       "    <tr style=\"text-align: right;\">\n",
       "      <th></th>\n",
       "      <th>Country Name</th>\n",
       "      <th>Country Code</th>\n",
       "      <th>Year</th>\n",
       "      <th>co2_emission</th>\n",
       "    </tr>\n",
       "  </thead>\n",
       "  <tbody>\n",
       "    <tr>\n",
       "      <th>47</th>\n",
       "      <td>Afghanistan</td>\n",
       "      <td>AFG</td>\n",
       "      <td>1996</td>\n",
       "      <td>1370104.00</td>\n",
       "    </tr>\n",
       "    <tr>\n",
       "      <th>48</th>\n",
       "      <td>Afghanistan</td>\n",
       "      <td>AFG</td>\n",
       "      <td>1997</td>\n",
       "      <td>1304152.00</td>\n",
       "    </tr>\n",
       "    <tr>\n",
       "      <th>49</th>\n",
       "      <td>Afghanistan</td>\n",
       "      <td>AFG</td>\n",
       "      <td>1998</td>\n",
       "      <td>1278504.00</td>\n",
       "    </tr>\n",
       "    <tr>\n",
       "      <th>50</th>\n",
       "      <td>Afghanistan</td>\n",
       "      <td>AFG</td>\n",
       "      <td>1999</td>\n",
       "      <td>1091640.00</td>\n",
       "    </tr>\n",
       "    <tr>\n",
       "      <th>51</th>\n",
       "      <td>Afghanistan</td>\n",
       "      <td>AFG</td>\n",
       "      <td>2000</td>\n",
       "      <td>1047127.94</td>\n",
       "    </tr>\n",
       "    <tr>\n",
       "      <th>...</th>\n",
       "      <td>...</td>\n",
       "      <td>...</td>\n",
       "      <td>...</td>\n",
       "      <td>...</td>\n",
       "    </tr>\n",
       "    <tr>\n",
       "      <th>31344</th>\n",
       "      <td>Zimbabwe</td>\n",
       "      <td>ZWE</td>\n",
       "      <td>2017</td>\n",
       "      <td>9596071.00</td>\n",
       "    </tr>\n",
       "    <tr>\n",
       "      <th>31345</th>\n",
       "      <td>Zimbabwe</td>\n",
       "      <td>ZWE</td>\n",
       "      <td>2018</td>\n",
       "      <td>11795478.00</td>\n",
       "    </tr>\n",
       "    <tr>\n",
       "      <th>31346</th>\n",
       "      <td>Zimbabwe</td>\n",
       "      <td>ZWE</td>\n",
       "      <td>2019</td>\n",
       "      <td>11114607.00</td>\n",
       "    </tr>\n",
       "    <tr>\n",
       "      <th>31347</th>\n",
       "      <td>Zimbabwe</td>\n",
       "      <td>ZWE</td>\n",
       "      <td>2020</td>\n",
       "      <td>10607897.00</td>\n",
       "    </tr>\n",
       "    <tr>\n",
       "      <th>31348</th>\n",
       "      <td>Zimbabwe</td>\n",
       "      <td>ZWE</td>\n",
       "      <td>2021</td>\n",
       "      <td>11296114.00</td>\n",
       "    </tr>\n",
       "  </tbody>\n",
       "</table>\n",
       "<p>5714 rows × 4 columns</p>\n",
       "</div>"
      ],
      "text/plain": [
       "      Country Name Country Code  Year  co2_emission\n",
       "47     Afghanistan          AFG  1996    1370104.00\n",
       "48     Afghanistan          AFG  1997    1304152.00\n",
       "49     Afghanistan          AFG  1998    1278504.00\n",
       "50     Afghanistan          AFG  1999    1091640.00\n",
       "51     Afghanistan          AFG  2000    1047127.94\n",
       "...            ...          ...   ...           ...\n",
       "31344     Zimbabwe          ZWE  2017    9596071.00\n",
       "31345     Zimbabwe          ZWE  2018   11795478.00\n",
       "31346     Zimbabwe          ZWE  2019   11114607.00\n",
       "31347     Zimbabwe          ZWE  2020   10607897.00\n",
       "31348     Zimbabwe          ZWE  2021   11296114.00\n",
       "\n",
       "[5714 rows x 4 columns]"
      ]
     },
     "execution_count": 90,
     "metadata": {},
     "output_type": "execute_result"
    }
   ],
   "source": [
    "co2_emission.dropna(subset=['Country Code'])"
   ]
  },
  {
   "attachments": {},
   "cell_type": "markdown",
   "metadata": {},
   "source": [
    "### Melting and Combining dateframes"
   ]
  },
  {
   "cell_type": "code",
   "execution_count": 91,
   "metadata": {},
   "outputs": [],
   "source": [
    "## Helper functions\n",
    "def change_column_types(df, first_col, second_col):\n",
    "    df[first_col] = df[first_col].astype(int)\n",
    "    df[second_col] = df[second_col].astype(float)\n",
    "    return df"
   ]
  },
  {
   "cell_type": "code",
   "execution_count": 92,
   "metadata": {},
   "outputs": [],
   "source": [
    "# Drop unwanted columns\n",
    "pop_stab = pop_stab.drop(['Series Name', 'Series Code'], axis=1)\n",
    "\n",
    "# Melt the dataframe\n",
    "pop_stab_melted = pop_stab.melt(id_vars=[\"Country Name\", \"Country Code\"], var_name=\"Year\", value_name=\"Stability\")\n",
    "pop_stab_melted = change_column_types(pop_stab_melted, 'Year', 'Stability')\n",
    "pop_stab_melted = pop_stab_melted[(pop_stab_melted['Year'] >= 1996) & (pop_stab_melted['Year'] <= 2021)]"
   ]
  },
  {
   "cell_type": "code",
   "execution_count": 93,
   "metadata": {},
   "outputs": [],
   "source": [
    "# Drop unwanted columns\n",
    "pop = pop.drop(['Series Name', 'Series Code'], axis=1)\n",
    "\n",
    "# Melt the dataframe\n",
    "pop_melted = pop.melt(id_vars=[\"Country Name\", \"Country Code\"], var_name=\"Year\", value_name=\"Population\")\n",
    "pop_melted = change_column_types(pop_melted, 'Year', 'Population')\n",
    "pop_melted = pop_melted[(pop_melted['Year'] >= 1996) & (pop_melted['Year'] <= 2021)]"
   ]
  },
  {
   "cell_type": "code",
   "execution_count": 94,
   "metadata": {},
   "outputs": [],
   "source": [
    "# Drop unwanted columns\n",
    "urban_pop = urban_pop.drop(['Indicator Name', 'Indicator Code'], axis=1)\n",
    "\n",
    "# Melt the dataframe\n",
    "urban_pop_melted = urban_pop.melt(id_vars=[\"Country Name\", \"Country Code\"], var_name=\"Year\", value_name=\"Urban_Population\")\n",
    "urban_pop_melted = change_column_types(urban_pop_melted, 'Year', 'Urban_Population')\n",
    "urban_pop_melted = urban_pop_melted[(urban_pop_melted['Year'] >= 1996) & (urban_pop_melted['Year'] <= 2021)]"
   ]
  },
  {
   "cell_type": "code",
   "execution_count": 95,
   "metadata": {},
   "outputs": [],
   "source": [
    "# Melt the dataframe\n",
    "hdi_df_melted = hdi_data.melt(id_vars=[\"Country Name\", \"Country Code\"], var_name=\"Year\", value_name=\"HDI\")\n",
    "hdi_df_melted = change_column_types(hdi_df_melted, 'Year', 'HDI')\n",
    "hdi_df_melted = hdi_df_melted[(hdi_df_melted['Year'] >= 1996) & (hdi_df_melted['Year'] <= 2021)]"
   ]
  },
  {
   "cell_type": "code",
   "execution_count": 96,
   "metadata": {},
   "outputs": [],
   "source": [
    "life_exp_df_melted  =  le_data.melt(id_vars=[\"Country Name\", \"Country Code\"], var_name=\"Year\", value_name=\"Life_Expectancy\")\n",
    "life_exp_df_melted = change_column_types(life_exp_df_melted, 'Year', 'Life_Expectancy')\n",
    "life_exp_df_melted = life_exp_df_melted[(life_exp_df_melted['Year'] >= 1996) & (life_exp_df_melted['Year'] <= 2021)]"
   ]
  },
  {
   "cell_type": "code",
   "execution_count": 97,
   "metadata": {},
   "outputs": [],
   "source": [
    "# Drop unwanted columns\n",
    "gdp = gdp.drop(['Series Name', 'Series Code'], axis=1)\n",
    "gdp_melted  =  gdp.melt(id_vars=[\"Country Name\", \"Country Code\"], var_name=\"Year\", value_name=\"GDP\")\n",
    "gdp_melted = change_column_types(gdp_melted, 'Year', 'GDP')\n",
    "gdp_melted = gdp_melted[(gdp_melted['Year'] >= 1996) & (gdp_melted['Year'] <= 2021)]"
   ]
  },
  {
   "cell_type": "code",
   "execution_count": 98,
   "metadata": {},
   "outputs": [],
   "source": [
    "# Drop unwanted columns\n",
    "inflation = inflation.drop(['IMF Country Code', 'Series Name', 'Indicator Type'], axis=1)\n",
    "inflation_melted  =  inflation.melt(id_vars=[\"Country Name\", \"Country Code\"], var_name=\"Year\", value_name=\"Inflation\")\n",
    "inflation_melted = change_column_types(inflation_melted, 'Year', 'Inflation')\n",
    "inflation_melted = inflation_melted[(inflation_melted['Year'] >= 1996) & (inflation_melted['Year'] <= 2021)]"
   ]
  },
  {
   "cell_type": "code",
   "execution_count": 99,
   "metadata": {},
   "outputs": [],
   "source": [
    "avg_oil_price_melted = change_column_types(avg_oil_price, 'Year', 'price')\n",
    "avg_oil_price_melted = avg_oil_price_melted[(avg_oil_price_melted['Year']>=1996) & (avg_oil_price_melted['Year']<=2021)]"
   ]
  },
  {
   "cell_type": "code",
   "execution_count": 100,
   "metadata": {},
   "outputs": [],
   "source": [
    "# Filtering the co2_emission dataframe for the years 1996 to 2021\n",
    "#co2_emission = co2_emission[(co2_emission['Year'] >= 1996) & (co2_emission['Year'] <= 2021)]"
   ]
  },
  {
   "cell_type": "code",
   "execution_count": 101,
   "metadata": {},
   "outputs": [],
   "source": [
    "query = \"\"\"\n",
    "SELECT A.'Country Name' as 'Country Name', A.'Country Code', A.Year, A.Stability, B.Inflation, \n",
    "        C.Population, D.Urban_Population, E.HDI, F.Life_Expectancy, G.GDP, H.co2_emission, I.Migration\n",
    "FROM pop_stab_melted AS A\n",
    "INNER JOIN inflation_melted AS B ON A.'Country Code' = B.'Country Code' AND A.Year = B.Year\n",
    "INNER JOIN pop_melted AS C ON A.'Country Code' = C.'Country Code' AND A.Year = C.Year\n",
    "INNER JOIN urban_pop_melted AS D ON A.'Country Code' = D.'Country Code' AND A.Year = D.Year\n",
    "INNER JOIN hdi_df_melted AS E ON A.'Country Code' = E.'Country Code' AND A.Year = E.Year\n",
    "INNER JOIN life_exp_df_melted AS F ON A.'Country Code' = F.'Country Code' AND A.Year = F.Year\n",
    "INNER JOIN gdp_melted AS G ON A.'Country Code' = G.'Country Code' AND A.Year = G.Year\n",
    "INNER JOIN co2_emission AS H ON A.'Country Code' = H.'Country Code' AND A.Year = H.Year\n",
    "INNER JOIN migration AS I ON A.'Country Code' = I.'Country Code' AND A.Year = I.Year\n",
    "\"\"\"\n",
    "\n",
    "merged_df = ps.sqldf(query, locals())"
   ]
  },
  {
   "cell_type": "code",
   "execution_count": 110,
   "metadata": {},
   "outputs": [
    {
     "data": {
      "text/html": [
       "<div>\n",
       "<style scoped>\n",
       "    .dataframe tbody tr th:only-of-type {\n",
       "        vertical-align: middle;\n",
       "    }\n",
       "\n",
       "    .dataframe tbody tr th {\n",
       "        vertical-align: top;\n",
       "    }\n",
       "\n",
       "    .dataframe thead th {\n",
       "        text-align: right;\n",
       "    }\n",
       "</style>\n",
       "<table border=\"1\" class=\"dataframe\">\n",
       "  <thead>\n",
       "    <tr style=\"text-align: right;\">\n",
       "      <th></th>\n",
       "      <th>Country Name</th>\n",
       "      <th>Country Code</th>\n",
       "      <th>Year</th>\n",
       "      <th>Stability</th>\n",
       "      <th>Inflation</th>\n",
       "      <th>Population</th>\n",
       "      <th>Urban_Population</th>\n",
       "      <th>HDI</th>\n",
       "      <th>Life_Expectancy</th>\n",
       "      <th>GDP</th>\n",
       "      <th>co2_emission</th>\n",
       "      <th>Migration</th>\n",
       "    </tr>\n",
       "  </thead>\n",
       "  <tbody>\n",
       "    <tr>\n",
       "      <th>0</th>\n",
       "      <td>Afghanistan</td>\n",
       "      <td>AFG</td>\n",
       "      <td>1996</td>\n",
       "      <td>-2.417310</td>\n",
       "      <td>14.01</td>\n",
       "      <td>17106595.0</td>\n",
       "      <td>21.714</td>\n",
       "      <td>0.319</td>\n",
       "      <td>53.2433</td>\n",
       "      <td>3.854235e+09</td>\n",
       "      <td>1370104.0</td>\n",
       "      <td>27194.0</td>\n",
       "    </tr>\n",
       "    <tr>\n",
       "      <th>1</th>\n",
       "      <td>Albania</td>\n",
       "      <td>ALB</td>\n",
       "      <td>1996</td>\n",
       "      <td>-0.336625</td>\n",
       "      <td>12.80</td>\n",
       "      <td>3168033.0</td>\n",
       "      <td>39.473</td>\n",
       "      <td>0.645</td>\n",
       "      <td>74.5923</td>\n",
       "      <td>3.199641e+09</td>\n",
       "      <td>2017508.0</td>\n",
       "      <td>-65800.0</td>\n",
       "    </tr>\n",
       "    <tr>\n",
       "      <th>2</th>\n",
       "      <td>Algeria</td>\n",
       "      <td>DZA</td>\n",
       "      <td>1996</td>\n",
       "      <td>-1.783311</td>\n",
       "      <td>18.70</td>\n",
       "      <td>28984634.0</td>\n",
       "      <td>56.774</td>\n",
       "      <td>0.617</td>\n",
       "      <td>68.7493</td>\n",
       "      <td>4.694158e+10</td>\n",
       "      <td>96786280.0</td>\n",
       "      <td>-9849.0</td>\n",
       "    </tr>\n",
       "    <tr>\n",
       "      <th>3</th>\n",
       "      <td>Angola</td>\n",
       "      <td>AGO</td>\n",
       "      <td>1996</td>\n",
       "      <td>-2.061917</td>\n",
       "      <td>4146.01</td>\n",
       "      <td>14383350.0</td>\n",
       "      <td>45.346</td>\n",
       "      <td>0.364</td>\n",
       "      <td>46.0329</td>\n",
       "      <td>7.526447e+09</td>\n",
       "      <td>10423993.0</td>\n",
       "      <td>45356.0</td>\n",
       "    </tr>\n",
       "    <tr>\n",
       "      <th>4</th>\n",
       "      <td>Antigua and Barbuda</td>\n",
       "      <td>ATG</td>\n",
       "      <td>1996</td>\n",
       "      <td>0.717077</td>\n",
       "      <td>2.96</td>\n",
       "      <td>69798.0</td>\n",
       "      <td>33.590</td>\n",
       "      <td>0.802</td>\n",
       "      <td>73.8291</td>\n",
       "      <td>6.337296e+08</td>\n",
       "      <td>238160.0</td>\n",
       "      <td>478.0</td>\n",
       "    </tr>\n",
       "  </tbody>\n",
       "</table>\n",
       "</div>"
      ],
      "text/plain": [
       "          Country Name Country Code  Year  Stability  Inflation  Population  \\\n",
       "0          Afghanistan          AFG  1996  -2.417310      14.01  17106595.0   \n",
       "1              Albania          ALB  1996  -0.336625      12.80   3168033.0   \n",
       "2              Algeria          DZA  1996  -1.783311      18.70  28984634.0   \n",
       "3               Angola          AGO  1996  -2.061917    4146.01  14383350.0   \n",
       "4  Antigua and Barbuda          ATG  1996   0.717077       2.96     69798.0   \n",
       "\n",
       "   Urban_Population    HDI  Life_Expectancy           GDP  co2_emission  \\\n",
       "0            21.714  0.319          53.2433  3.854235e+09     1370104.0   \n",
       "1            39.473  0.645          74.5923  3.199641e+09     2017508.0   \n",
       "2            56.774  0.617          68.7493  4.694158e+10    96786280.0   \n",
       "3            45.346  0.364          46.0329  7.526447e+09    10423993.0   \n",
       "4            33.590  0.802          73.8291  6.337296e+08      238160.0   \n",
       "\n",
       "   Migration  \n",
       "0    27194.0  \n",
       "1   -65800.0  \n",
       "2    -9849.0  \n",
       "3    45356.0  \n",
       "4      478.0  "
      ]
     },
     "execution_count": 110,
     "metadata": {},
     "output_type": "execute_result"
    }
   ],
   "source": [
    "merged_df.head()"
   ]
  },
  {
   "attachments": {},
   "cell_type": "markdown",
   "metadata": {},
   "source": []
  },
  {
   "cell_type": "code",
   "execution_count": 161,
   "metadata": {},
   "outputs": [],
   "source": [
    "# Prepare data\n",
    "grouped = merged_df.groupby('Country Name')\n",
    "time_series_data = []\n",
    "country_names = []  # List to keep track of country names\n",
    "for name, group in grouped:\n",
    "    group = group.sort_values('Year')\n",
    "    time_series_data.append(group[[\"Stability\",\"Inflation\",\"Population\",\"Urban_Population\",\"HDI\",\"Life_Expectancy\",\"GDP\",\"Migration\"]].values)\n",
    "    country_names.append(name)  # Add country name to the list"
   ]
  },
  {
   "cell_type": "code",
   "execution_count": 162,
   "metadata": {},
   "outputs": [
    {
     "data": {
      "text/html": [
       "<style>#sk-container-id-6 {color: black;background-color: white;}#sk-container-id-6 pre{padding: 0;}#sk-container-id-6 div.sk-toggleable {background-color: white;}#sk-container-id-6 label.sk-toggleable__label {cursor: pointer;display: block;width: 100%;margin-bottom: 0;padding: 0.3em;box-sizing: border-box;text-align: center;}#sk-container-id-6 label.sk-toggleable__label-arrow:before {content: \"▸\";float: left;margin-right: 0.25em;color: #696969;}#sk-container-id-6 label.sk-toggleable__label-arrow:hover:before {color: black;}#sk-container-id-6 div.sk-estimator:hover label.sk-toggleable__label-arrow:before {color: black;}#sk-container-id-6 div.sk-toggleable__content {max-height: 0;max-width: 0;overflow: hidden;text-align: left;background-color: #f0f8ff;}#sk-container-id-6 div.sk-toggleable__content pre {margin: 0.2em;color: black;border-radius: 0.25em;background-color: #f0f8ff;}#sk-container-id-6 input.sk-toggleable__control:checked~div.sk-toggleable__content {max-height: 200px;max-width: 100%;overflow: auto;}#sk-container-id-6 input.sk-toggleable__control:checked~label.sk-toggleable__label-arrow:before {content: \"▾\";}#sk-container-id-6 div.sk-estimator input.sk-toggleable__control:checked~label.sk-toggleable__label {background-color: #d4ebff;}#sk-container-id-6 div.sk-label input.sk-toggleable__control:checked~label.sk-toggleable__label {background-color: #d4ebff;}#sk-container-id-6 input.sk-hidden--visually {border: 0;clip: rect(1px 1px 1px 1px);clip: rect(1px, 1px, 1px, 1px);height: 1px;margin: -1px;overflow: hidden;padding: 0;position: absolute;width: 1px;}#sk-container-id-6 div.sk-estimator {font-family: monospace;background-color: #f0f8ff;border: 1px dotted black;border-radius: 0.25em;box-sizing: border-box;margin-bottom: 0.5em;}#sk-container-id-6 div.sk-estimator:hover {background-color: #d4ebff;}#sk-container-id-6 div.sk-parallel-item::after {content: \"\";width: 100%;border-bottom: 1px solid gray;flex-grow: 1;}#sk-container-id-6 div.sk-label:hover label.sk-toggleable__label {background-color: #d4ebff;}#sk-container-id-6 div.sk-serial::before {content: \"\";position: absolute;border-left: 1px solid gray;box-sizing: border-box;top: 0;bottom: 0;left: 50%;z-index: 0;}#sk-container-id-6 div.sk-serial {display: flex;flex-direction: column;align-items: center;background-color: white;padding-right: 0.2em;padding-left: 0.2em;position: relative;}#sk-container-id-6 div.sk-item {position: relative;z-index: 1;}#sk-container-id-6 div.sk-parallel {display: flex;align-items: stretch;justify-content: center;background-color: white;position: relative;}#sk-container-id-6 div.sk-item::before, #sk-container-id-6 div.sk-parallel-item::before {content: \"\";position: absolute;border-left: 1px solid gray;box-sizing: border-box;top: 0;bottom: 0;left: 50%;z-index: -1;}#sk-container-id-6 div.sk-parallel-item {display: flex;flex-direction: column;z-index: 1;position: relative;background-color: white;}#sk-container-id-6 div.sk-parallel-item:first-child::after {align-self: flex-end;width: 50%;}#sk-container-id-6 div.sk-parallel-item:last-child::after {align-self: flex-start;width: 50%;}#sk-container-id-6 div.sk-parallel-item:only-child::after {width: 0;}#sk-container-id-6 div.sk-dashed-wrapped {border: 1px dashed gray;margin: 0 0.4em 0.5em 0.4em;box-sizing: border-box;padding-bottom: 0.4em;background-color: white;}#sk-container-id-6 div.sk-label label {font-family: monospace;font-weight: bold;display: inline-block;line-height: 1.2em;}#sk-container-id-6 div.sk-label-container {text-align: center;}#sk-container-id-6 div.sk-container {/* jupyter's `normalize.less` sets `[hidden] { display: none; }` but bootstrap.min.css set `[hidden] { display: none !important; }` so we also need the `!important` here to be able to override the default hidden behavior on the sphinx rendered scikit-learn.org. See: https://github.com/scikit-learn/scikit-learn/issues/21755 */display: inline-block !important;position: relative;}#sk-container-id-6 div.sk-text-repr-fallback {display: none;}</style><div id=\"sk-container-id-6\" class=\"sk-top-container\"><div class=\"sk-text-repr-fallback\"><pre>TimeSeriesKMeans(max_iter=5, metric=&#x27;dtw&#x27;, n_clusters=5, random_state=0)</pre><b>In a Jupyter environment, please rerun this cell to show the HTML representation or trust the notebook. <br />On GitHub, the HTML representation is unable to render, please try loading this page with nbviewer.org.</b></div><div class=\"sk-container\" hidden><div class=\"sk-item\"><div class=\"sk-estimator sk-toggleable\"><input class=\"sk-toggleable__control sk-hidden--visually\" id=\"sk-estimator-id-6\" type=\"checkbox\" checked><label for=\"sk-estimator-id-6\" class=\"sk-toggleable__label sk-toggleable__label-arrow\">TimeSeriesKMeans</label><div class=\"sk-toggleable__content\"><pre>TimeSeriesKMeans(max_iter=5, metric=&#x27;dtw&#x27;, n_clusters=5, random_state=0)</pre></div></div></div></div></div>"
      ],
      "text/plain": [
       "TimeSeriesKMeans(max_iter=5, metric='dtw', n_clusters=5, random_state=0)"
      ]
     },
     "execution_count": 162,
     "metadata": {},
     "output_type": "execute_result"
    }
   ],
   "source": [
    "# Data normalization\n",
    "time_series_data = [TimeSeriesScalerMeanVariance().fit_transform(ts).squeeze() for ts in time_series_data]\n",
    "X = to_time_series_dataset(time_series_data)\n",
    "\n",
    "# Clustering\n",
    "model = TimeSeriesKMeans(n_clusters=5, metric=\"dtw\", max_iter=5, random_state=0)\n",
    "model.fit(X)"
   ]
  },
  {
   "cell_type": "code",
   "execution_count": 163,
   "metadata": {},
   "outputs": [
    {
     "name": "stdout",
     "output_type": "stream",
     "text": [
      "Countries in cluster 0: Angola, Armenia, Azerbaijan, Bangladesh, Benin, Bhutan, Equatorial Guinea, Gambia, The, Ghana, Guinea, Haiti, India, Kenya, Lesotho, Moldova, Mongolia, Nigeria, Pakistan, Sao Tome and Principe, Sudan, Timor-Leste, Turkmenistan, Uzbekistan, Vietnam, Yemen, Rep., Zambia, Zimbabwe\n",
      "Countries in cluster 1: Burundi, Congo, Dem. Rep., Ethiopia, Malawi, Myanmar, Sierra Leone, Tajikistan\n",
      "Countries in cluster 2: Antigua and Barbuda, Argentina, Australia, Austria, Bahamas, The, Bahrain, Barbados, Belgium, Belize, Botswana, Brazil, Brunei Darussalam, Bulgaria, Canada, Chile, Colombia, Costa Rica, Croatia, Cyprus, Czech Republic, Denmark, Dominica, Dominican Republic, Ecuador, El Salvador, Estonia, Fiji, Finland, France, Gabon, Germany, Greece, Grenada, Hong Kong SAR, China, Hungary, Iceland, Iran, Islamic Rep., Ireland, Israel, Italy, Jamaica, Japan, Korea, Rep., Kuwait, Latvia, Lebanon, Libya, Liechtenstein, Lithuania, Luxembourg, Malaysia, Maldives, Malta, Marshall Islands, Mauritius, Mexico, Micronesia, Fed. Sts., Montenegro, Namibia, Netherlands, New Zealand, North Macedonia, Norway, Oman, Palau, Panama, Peru, Poland, Portugal, Qatar, Romania, Russian Federation, Saudi Arabia, Serbia, Seychelles, Singapore, Slovak Republic, Slovenia, South Africa, Spain, St. Kitts and Nevis, St. Lucia, St. Vincent and the Grenadines, Suriname, Sweden, Switzerland, Thailand, Tonga, Trinidad and Tobago, Tunisia, Turkiye, United Arab Emirates, United Kingdom, United States, Uruguay, Venezuela, RB\n",
      "Countries in cluster 3: Afghanistan, Burkina Faso, Cambodia, Central African Republic, Chad, Eritrea, Guinea-Bissau, Kyrgyz Republic, Lao PDR, Liberia, Madagascar, Mali, Mozambique, Nepal, Niger, Rwanda, Tanzania, Togo, Uganda\n",
      "Countries in cluster 4: Albania, Algeria, Belarus, Bolivia, Bosnia and Herzegovina, Cabo Verde, Cameroon, China, Comoros, Congo, Rep., Cote d'Ivoire, Djibouti, Egypt, Arab Rep., Eswatini, Georgia, Guatemala, Guyana, Honduras, Indonesia, Iraq, Jordan, Kazakhstan, Kiribati, Mauritania, Morocco, Nicaragua, Papua New Guinea, Paraguay, Philippines, Samoa, Senegal, Solomon Islands, South Sudan, Sri Lanka, Syrian Arab Republic, Tuvalu, Ukraine, Vanuatu\n"
     ]
    }
   ],
   "source": [
    "# Get the cluster assignments for each time series\n",
    "labels = model.labels_\n",
    "\n",
    "# Group country names by cluster\n",
    "clusters = {i: [] for i in range(5)}\n",
    "for country_name, label in zip(country_names, labels):\n",
    "    clusters[label].append(country_name)\n",
    "\n",
    "for i in range(5):\n",
    "    print(f\"Countries in cluster {i}: {', '.join(clusters[i])}\")"
   ]
  },
  {
   "cell_type": "code",
   "execution_count": 157,
   "metadata": {},
   "outputs": [
    {
     "data": {
      "text/plain": [
       "array([[[-0.37988229, -0.37988228, -0.36645346, ..., -0.37988224,\n",
       "          2.64572576, -0.37986094],\n",
       "        [-0.37995618, -0.37995617, -0.36599147, ..., -0.37995614,\n",
       "          2.64572367, -0.37995137],\n",
       "        [-0.38003823, -0.38003821, -0.36552023, ..., -0.38003818,\n",
       "          2.64572146, -0.38001017],\n",
       "        ...,\n",
       "        [-0.37882681, -0.37882681, -0.37278398, ..., -0.3788268 ,\n",
       "          2.64574614, -0.37882811],\n",
       "        [-0.37880332, -0.37880332, -0.37295162, ..., -0.37880331,\n",
       "          2.64574646, -0.37877827],\n",
       "        [-0.37912959, -0.37912959, -0.37092665, ..., -0.37912958,\n",
       "          2.64574176, -0.37916716]],\n",
       "\n",
       "       [[-0.37838317, -0.37838316, -0.37538892, ..., -0.3783831 ,\n",
       "          2.64575003, -0.37844536],\n",
       "        [-0.37855377, -0.37855373, -0.37433801, ..., -0.37855367,\n",
       "          2.64574877, -0.37864211],\n",
       "        [-0.37848397, -0.37848395, -0.37476773, ..., -0.37848388,\n",
       "          2.64574934, -0.37856191],\n",
       "        ...,\n",
       "        [-0.37804427, -0.37804427, -0.37748392, ..., -0.37804426,\n",
       "          2.64575127, -0.37804602],\n",
       "        [-0.37804522, -0.37804522, -0.37747814, ..., -0.37804521,\n",
       "          2.64575127, -0.37804704],\n",
       "        [-0.37803075, -0.37803075, -0.37756504, ..., -0.37803074,\n",
       "          2.64575128, -0.37803251]],\n",
       "\n",
       "       [[-0.37823106, -0.37823105, -0.37636386, ..., -0.37823105,\n",
       "          2.64575082, -0.37823169],\n",
       "        [-0.37822884, -0.37822884, -0.3763787 , ..., -0.37822883,\n",
       "          2.64575083, -0.37822795],\n",
       "        [-0.37823243, -0.37823243, -0.37635453, ..., -0.37823242,\n",
       "          2.64575081, -0.37823415],\n",
       "        ...,\n",
       "        [-0.37807177, -0.37807177, -0.37731998, ..., -0.37807177,\n",
       "          2.64575123, -0.37807241],\n",
       "        [-0.37809384, -0.37809384, -0.37718775, ..., -0.37809384,\n",
       "          2.64575119, -0.37809423],\n",
       "        [-0.37808146, -0.37808146, -0.37726213, ..., -0.37808146,\n",
       "          2.64575122, -0.37808181]],\n",
       "\n",
       "       ...,\n",
       "\n",
       "       [[-0.37919827, -0.37919825, -0.37051178, ..., -0.37919824,\n",
       "          2.6457406 , -0.37923752],\n",
       "        [-0.37903953, -0.37903952, -0.37147213, ..., -0.3790395 ,\n",
       "          2.64574318, -0.37907346],\n",
       "        [-0.37916061, -0.3791606 , -0.37073979, ..., -0.37916058,\n",
       "          2.64574125, -0.37919845],\n",
       "        ...,\n",
       "        [-0.37859411, -0.37859411, -0.37417833, ..., -0.3785941 ,\n",
       "          2.64574855, -0.37859968],\n",
       "        [-0.37860791, -0.37860791, -0.3740889 , ..., -0.3786079 ,\n",
       "          2.64574841, -0.37861996],\n",
       "        [-0.37862154, -0.37862153, -0.37400486, ..., -0.37862153,\n",
       "          2.64574829, -0.37863574]],\n",
       "\n",
       "       [[-0.37902809, -0.37902805, -0.37154271, ..., -0.37902805,\n",
       "          2.64574336, -0.37906032],\n",
       "        [-0.37887806, -0.37887805, -0.37245869, ..., -0.37887803,\n",
       "          2.64574546, -0.37889652],\n",
       "        [-0.37910422, -0.3791042 , -0.37109046, ..., -0.37910419,\n",
       "          2.6457422 , -0.37913071],\n",
       "        ...,\n",
       "        [-0.37830536, -0.37830536, -0.37592069, ..., -0.37830535,\n",
       "          2.64575051, -0.37830302],\n",
       "        [-0.378416  , -0.378416  , -0.3752554 , ..., -0.37841599,\n",
       "          2.6457499 , -0.3784145 ],\n",
       "        [-0.37834435, -0.37834435, -0.37568544, ..., -0.37834434,\n",
       "          2.64575031, -0.37834312]],\n",
       "\n",
       "       [[-0.37852706, -0.37852705, -0.37457461, ..., -0.37852704,\n",
       "          2.64574909, -0.37853923],\n",
       "        [-0.37853785, -0.37853785, -0.37450914, ..., -0.37853783,\n",
       "          2.64574901, -0.37855063],\n",
       "        [-0.37874074, -0.37874076, -0.37328494, ..., -0.37874072,\n",
       "          2.64574709, -0.37875845],\n",
       "        ...,\n",
       "        [-0.37826703, -0.37826699, -0.37614024, ..., -0.37826702,\n",
       "          2.64575067, -0.37827533],\n",
       "        [-0.3782785 , -0.37827842, -0.37607551, ..., -0.37827849,\n",
       "          2.64575062, -0.37828271],\n",
       "        [-0.37820756, -0.37820755, -0.37650289, ..., -0.37820756,\n",
       "          2.6457509 , -0.37821023]]])"
      ]
     },
     "execution_count": 157,
     "metadata": {},
     "output_type": "execute_result"
    }
   ],
   "source": [
    "X"
   ]
  },
  {
   "cell_type": "code",
   "execution_count": null,
   "metadata": {},
   "outputs": [],
   "source": []
  }
 ],
 "metadata": {
  "kernelspec": {
   "display_name": "Python 3",
   "language": "python",
   "name": "python3"
  },
  "language_info": {
   "codemirror_mode": {
    "name": "ipython",
    "version": 3
   },
   "file_extension": ".py",
   "mimetype": "text/x-python",
   "name": "python",
   "nbconvert_exporter": "python",
   "pygments_lexer": "ipython3",
   "version": "3.10.11"
  },
  "orig_nbformat": 4
 },
 "nbformat": 4,
 "nbformat_minor": 2
}
