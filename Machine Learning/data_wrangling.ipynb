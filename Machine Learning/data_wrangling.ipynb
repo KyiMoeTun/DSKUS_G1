{
 "cells": [
  {
   "cell_type": "code",
   "execution_count": 99,
   "metadata": {},
   "outputs": [],
   "source": [
    "import pandas as pd\n",
    "import numpy as np\n",
    "import matplotlib.pyplot as plt \n",
    "import re\n",
    "import pandasql as ps\n",
    "from tslearn.clustering import TimeSeriesKMeans\n",
    "from tslearn.utils import to_time_series_dataset\n",
    "from sklearn.preprocessing import StandardScaler\n",
    "from tslearn.preprocessing import TimeSeriesScalerMeanVariance\n",
    "from sklearn.metrics import silhouette_samples, silhouette_score\n",
    "import tensorflow as tf\n",
    "import keras"
   ]
  },
  {
   "cell_type": "code",
   "execution_count": 2,
   "metadata": {},
   "outputs": [],
   "source": [
    "# reading the datasets from the directory Datasets/SocioEconomic\n",
    "# read the pop_stab dataframe up to 214 rows only\n",
    "pop_stab =  pd.read_csv('../Datasets/SocioEconomic/political_stability_1996_2021.csv', nrows=214, na_values='..')\n",
    "pop =  pd.read_csv('../Datasets/SocioEconomic/population_1960_2021.csv', na_values='..')\n",
    "urban_pop =  pd.read_csv('../Datasets/SocioEconomic/Urban_pop_WorldBank_1960_2021.csv', skiprows=4)\n",
    "gdp =  pd.read_csv('../Datasets/SocioEconomic/GDP_1960_2021.csv', na_values='..')\n",
    "oil_prices = pd.read_csv('../Datasets/SocioEconomic/crude_oil_price_1983_2023.csv')\n",
    "inflation =  pd.read_csv('../Datasets/SocioEconomic/Inflation_data_1970_2022.csv', encoding='ISO-8859-1')\n",
    "co2_emission = pd.read_csv('../Datasets/SocioEconomic/co2_emission_2021.csv')\n",
    "migration = pd.read_csv('../Datasets/SocioEconomic/migration_1960_2021.csv')\n",
    "hdi_le = pd.read_csv('../Datasets/SocioEconomic/HDI_LE_1990_2021.csv')\n",
    "country_codes = pd.read_csv('../Datasets/SocioEconomic/UN_country_code.csv')\n",
    "fertility = pd.read_csv('../Datasets/SocioEconomic/fertility_1973_2021.csv', na_values='..')"
   ]
  },
  {
   "attachments": {},
   "cell_type": "markdown",
   "metadata": {},
   "source": [
    "## Cleaning Datasets\n",
    "### Political Stability and Absence of Violence/Terrorism\n",
    "\n",
    "The dataset under consideration contains information about the \"Political Stability and Absence of Violence/Terrorism\" index for various countries from the year 1996 to 2021. The index, coded as 'PV.EST', is measured on a scale from -2.5 to 2.5, with a higher value indicating more stable political conditions and less violence or terrorism. A lower score indicates a less stable political environment and higher levels of violence or terrorism.\n",
    "\n",
    "Our data cleaning and preparation steps include:\n",
    "\n",
    "- **Renaming columns**: The year columns are initially named in the format 'YYYY [YRYYYY]'. We rename these to just 'YYYY' for simplicity and ease of access.\n",
    "\n",
    "- **Data type conversion**: We ensure that the values in the year columns are of numeric type (float) for proper analysis.\n",
    "\n",
    "- **Handling missing years**: Our dataset does not include data for the years 1997, 1999, and 2001. We handle this by computing the missing values as the average of the previous and following years. This is done under the assumption that the political stability index changes smoothly over time.\n",
    "\n",
    "- **Sorting columns**: After inserting the missing years, we sort our columns to maintain a chronological order of years.\n",
    "\n",
    "- **Backward filling**: Some years at the beginning of the dataset have missing values. We fill these missing values using the backward fill method, which propagates the next valid observation backward to fill the gaps.\n"
   ]
  },
  {
   "cell_type": "code",
   "execution_count": 3,
   "metadata": {},
   "outputs": [],
   "source": [
    "# renaming the columns by removing [YR]\n",
    "pop_stab = pop_stab.rename(columns={col: re.sub(r'\\s*\\[YR.*\\]', '', col) for col in pop_stab.columns[4:]})\n",
    "# Change the type of year columns to float\n",
    "for col in pop_stab.columns[4:]:\n",
    "    pop_stab[col] = pop_stab[col].astype(float)\n",
    "\n",
    "# renaming the columns by removing [YR]\n",
    "pop_stab = pop_stab.rename(columns={col: re.sub(r'\\s*\\[YR.*\\]', '', col) for col in pop_stab.columns[4:]})"
   ]
  },
  {
   "cell_type": "code",
   "execution_count": 4,
   "metadata": {},
   "outputs": [],
   "source": [
    "# this function will fill the missing values with the mean of the previous and next year\n",
    "def insert_missing_years(df, missing_years):\n",
    "    for year in missing_years:\n",
    "        prev_year = str(year - 1)\n",
    "        next_year = str(year + 1)\n",
    "\n",
    "        # Check if previous and next year columns exist\n",
    "        if prev_year in df.columns and next_year in df.columns:\n",
    "            df[prev_year] = pd.to_numeric(df[prev_year], errors='coerce')\n",
    "            df[next_year] = pd.to_numeric(df[next_year], errors='coerce')\n",
    "            df[str(year)] = (df[prev_year] + df[next_year]) / 2\n",
    "        else:\n",
    "            print(f\"Cannot compute for year {year}, adjacent years data are not available.\")\n",
    "        \n",
    "    # Sort the columns\n",
    "    non_year_cols = [\"Country Name\", \"Country Code\", \"Series Name\", \"Series Code\"]\n",
    "    year_cols = [str(i) for i in sorted(int(col) for col in df.columns if col.isdigit())]\n",
    "    cols = non_year_cols + year_cols\n",
    "    \n",
    "    return df.reindex(columns=cols)"
   ]
  },
  {
   "cell_type": "code",
   "execution_count": 5,
   "metadata": {},
   "outputs": [],
   "source": [
    "# certain years are missing from the dataframe\n",
    "missing_years = [1997, 1999, 2001]\n",
    "\n",
    "# fill the missing years\n",
    "pop_stab = insert_missing_years(pop_stab, missing_years)"
   ]
  },
  {
   "cell_type": "code",
   "execution_count": 6,
   "metadata": {},
   "outputs": [],
   "source": [
    "# there are certain years in the beginning of the dataframe that have missing values\n",
    "# we will fill those missing values using the backward fill method\n",
    "pop_stab.loc[:, '1996':] = pop_stab.loc[:, '1996':].bfill(axis=1)"
   ]
  },
  {
   "attachments": {},
   "cell_type": "markdown",
   "metadata": {},
   "source": [
    "### Population & Urban Population\n",
    "\n",
    "The datasets under consideration contain information about the total population and the urban population as a percentage of the total population for various countries from the year 1960 to 2021.\n",
    "\n",
    "Our data cleaning and preparation steps include:\n",
    "\n",
    "- **Removing Null Values**: We start by removing any rows in our data that contain null values. This is important because null values can lead to errors in calculations and can be indicative of missing or incomplete data.\n",
    "\n",
    "- **Renaming columns**: The year columns in our datasets are initially named in the format 'YYYY [YRYYYY]'. We rename these to just 'YYYY' for simplicity and ease of access.\n",
    "\n",
    "- **Data type conversion**: We ensure that the values in the year columns are of numeric type (float) for proper analysis.\n",
    "\n"
   ]
  },
  {
   "cell_type": "code",
   "execution_count": 7,
   "metadata": {},
   "outputs": [],
   "source": [
    "# removing the null values\n",
    "pop = pop.dropna()\n",
    "# renaming the columns by removing [YR]\n",
    "pop = pop.rename(columns={col: re.sub(r'\\s*\\[YR.*\\]', '', col) for col in pop.columns})\n",
    "# Change the type of year columns to float\n",
    "for col in pop.columns[4:]:\n",
    "    pop[col] = pop[col].astype(float)"
   ]
  },
  {
   "cell_type": "code",
   "execution_count": 8,
   "metadata": {},
   "outputs": [],
   "source": [
    "# get all the rows for each country of interest\n",
    "#urban_pop = urban_pop[urban_pop['Country Code'].isin(countries_of_interest)]\n",
    "# removing the null values\n",
    "urban_pop = urban_pop.dropna()\n",
    "# Change the type of year columns to float\n",
    "for col in urban_pop.columns[4:]:\n",
    "    urban_pop[col] = urban_pop[col].astype(float)"
   ]
  },
  {
   "attachments": {},
   "cell_type": "markdown",
   "metadata": {},
   "source": [
    "### Human Development Index (HDI) and Life Expectancy (LE)\n",
    "\n",
    "## Cleaning Datasets\n",
    "### Human Development Index (HDI) and Life Expectancy at Birth (LE)\n",
    "\n",
    "The datasets under consideration contain information about the Human Development Index (HDI) and Life Expectancy at Birth (LE) for various countries from the year 1990 to 2021.\n",
    "\n",
    "Our data cleaning and preparation steps include:\n",
    "\n",
    "- **Filtering columns**: We start by filtering our data to include only those columns related to HDI and LE. For HDI, the columns include 'iso3', 'country', and 'hdi_YEAR' for each year from 1996 to 2021. For LE, the columns include 'iso3', 'country', and 'le_YEAR' for each year from 1996 to 2021.\n",
    "\n",
    "- **Renaming columns**: We rename the 'iso3' column to 'Country Code' and the 'country' column to 'Country Name' for better clarity and consistency.\n",
    "\n",
    "- **Removing prefix from columns**: We remove the 'hdi_' prefix from the columns in the HDI dataframe and 'le_' prefix from the columns in the LE dataframe. This is done to make the column names simpler and more intuitive.\n",
    "\n",
    "- **Backward filling**: Some years at the beginning of the dataset have missing values. We fill these missing values using the backward fill method, which propagates the next valid observation backward to fill the gaps.\n",
    "\n",
    "- **Removing invalid countries**: We remove any countries that have null values after our data cleaning process."
   ]
  },
  {
   "cell_type": "code",
   "execution_count": 9,
   "metadata": {},
   "outputs": [],
   "source": [
    "# Filter the columns to include only those related to HDI\n",
    "hdi_columns = ['iso3', 'country'] + [f'hdi_{year}' for year in range(1996, 2022)]\n",
    "hdi_data = hdi_le[hdi_columns].copy()\n",
    "\n",
    "# Rename the columns\n",
    "hdi_data.rename(columns={'iso3': 'Country Code', 'country': 'Country Name'}, inplace=True)\n",
    "\n",
    "# Remove 'hdi_' prefix from the columns in the HDI dataframe\n",
    "hdi_data.columns = hdi_data.columns.str.replace('hdi_', '')\n",
    "\n",
    "# Fill the missing values using backward fill\n",
    "hdi_data.loc[:, '1996':] = hdi_data.loc[:, '1996':].bfill(axis=1)\n",
    "\n",
    "# remove some invalid countries\n",
    "hdi_data = hdi_data.dropna()"
   ]
  },
  {
   "cell_type": "code",
   "execution_count": 10,
   "metadata": {},
   "outputs": [],
   "source": [
    "# Filter the columns to include only those related to Life expectancy\n",
    "le_columns = ['iso3', 'country'] + [f'le_{year}' for year in range(1996, 2022)]\n",
    "le_data = hdi_le[le_columns].copy()\n",
    "\n",
    "# Rename the columns\n",
    "le_data.rename(columns={'iso3': 'Country Code', 'country': 'Country Name'}, inplace=True)\n",
    "\n",
    "# Remove 'le_' prefix from the columns in the Life expectancy dataframe\n",
    "le_data.columns = le_data.columns.str.replace('le_', '')"
   ]
  },
  {
   "attachments": {},
   "cell_type": "markdown",
   "metadata": {},
   "source": [
    "### Gross Domestic Product\n",
    "\n",
    "### Gross Domestic Product (GDP)\n",
    "\n",
    "The dataset under consideration contains information about the Gross Domestic Product (GDP) in current US dollars for various countries from the year 1960 to 2021.\n",
    "\n",
    "Our data cleaning and preparation steps include:\n",
    "\n",
    "- **Renaming columns**: The year columns are initially named in the format 'YYYY [YRYYYY]'. We rename these to just 'YYYY' for simplicity and ease of access.\n",
    "\n",
    "- **Data type conversion**: We ensure that the values in the year columns are of numeric type (float) for proper analysis.\n",
    "\n",
    "- **Filtering columns**: We start by filtering our data to include only those columns related to years from 1996 to 2021, along with non-year columns. This is because our analysis focuses on the period from 1996 to 2021.\n",
    "\n",
    "- **Filling missing values**: Some years in the dataset have missing values. We fill these missing values using the backward fill and forward fill methods, which propagate the next and previous valid observation to fill the gaps.\n",
    "\n",
    "- **Removing invalid rows**: We remove any rows that still have null values after our data cleaning process.\n"
   ]
  },
  {
   "cell_type": "code",
   "execution_count": 11,
   "metadata": {},
   "outputs": [],
   "source": [
    "# renaming the columns by removing [YR]\n",
    "gdp = gdp.rename(columns={col: re.sub(r'\\s*\\[YR.*\\]', '', col) for col in gdp.columns[4:]})\n",
    "# Change the type of year columns to float\n",
    "for col in gdp.columns[4:]:\n",
    "    gdp[col] = gdp[col].astype(float)\n",
    "\n",
    "# Filter columns\n",
    "cols = [col for col in gdp.columns if (col.isdigit() and int(col) >= 1996) or not col.isdigit()]\n",
    "\n",
    "# Select those columns from gdp\n",
    "gdp = gdp[cols]"
   ]
  },
  {
   "cell_type": "code",
   "execution_count": 12,
   "metadata": {},
   "outputs": [],
   "source": [
    "# Fill the null years using backward fill and forward fill\n",
    "gdp.loc[:, '1996':] = gdp.loc[:, '1996':].bfill(axis=1).ffill(axis=1)\n",
    "# remocet the rest of null values\n",
    "gdp = gdp.dropna()"
   ]
  },
  {
   "attachments": {},
   "cell_type": "markdown",
   "metadata": {},
   "source": [
    "### Crude Oil Prices\n",
    "\n",
    "The dataset under consideration contains information about the crude oil prices from the year 1983 to 2023. The data includes the date of observation, the price of crude oil on that date, the percentage change in price from the previous date, and the absolute change in price from the previous date.\n",
    "\n",
    "Our data cleaning and preparation steps for the crude oil prices data include:\n",
    "\n",
    "- **Date conversion**: The 'date' column in the data is converted into datetime format for easier manipulation and analysis.\n",
    "\n",
    "- **Year extraction**: A new 'year' column is created by extracting the year from the 'date' column. This allows for annual analysis of the data.\n",
    "\n",
    "- **Calculating average annual price**: The data is then grouped by 'year', and the average price of crude oil for each year is calculated. This results in a new dataframe that shows the average price of crude oil for each year.\n",
    "\n",
    "After these steps, we have a concise and tidy dataframe that contains the average price of crude oil for each year from 1983 to 2023.\n",
    "\n"
   ]
  },
  {
   "cell_type": "code",
   "execution_count": 13,
   "metadata": {},
   "outputs": [
    {
     "data": {
      "text/html": [
       "<div>\n",
       "<style scoped>\n",
       "    .dataframe tbody tr th:only-of-type {\n",
       "        vertical-align: middle;\n",
       "    }\n",
       "\n",
       "    .dataframe tbody tr th {\n",
       "        vertical-align: top;\n",
       "    }\n",
       "\n",
       "    .dataframe thead th {\n",
       "        text-align: right;\n",
       "    }\n",
       "</style>\n",
       "<table border=\"1\" class=\"dataframe\">\n",
       "  <thead>\n",
       "    <tr style=\"text-align: right;\">\n",
       "      <th></th>\n",
       "      <th>Year</th>\n",
       "      <th>price</th>\n",
       "    </tr>\n",
       "  </thead>\n",
       "  <tbody>\n",
       "    <tr>\n",
       "      <th>0</th>\n",
       "      <td>1983</td>\n",
       "      <td>30.468000</td>\n",
       "    </tr>\n",
       "    <tr>\n",
       "      <th>1</th>\n",
       "      <td>1984</td>\n",
       "      <td>29.240833</td>\n",
       "    </tr>\n",
       "    <tr>\n",
       "      <th>2</th>\n",
       "      <td>1985</td>\n",
       "      <td>27.873333</td>\n",
       "    </tr>\n",
       "    <tr>\n",
       "      <th>3</th>\n",
       "      <td>1986</td>\n",
       "      <td>14.413333</td>\n",
       "    </tr>\n",
       "    <tr>\n",
       "      <th>4</th>\n",
       "      <td>1987</td>\n",
       "      <td>19.036667</td>\n",
       "    </tr>\n",
       "  </tbody>\n",
       "</table>\n",
       "</div>"
      ],
      "text/plain": [
       "   Year      price\n",
       "0  1983  30.468000\n",
       "1  1984  29.240833\n",
       "2  1985  27.873333\n",
       "3  1986  14.413333\n",
       "4  1987  19.036667"
      ]
     },
     "execution_count": 13,
     "metadata": {},
     "output_type": "execute_result"
    }
   ],
   "source": [
    "# Convert the 'date' column to datetime format\n",
    "oil_prices['date'] = pd.to_datetime(oil_prices['date'])\n",
    "\n",
    "# Extract the year from the 'date' column and create a new 'year' column\n",
    "oil_prices['Year'] = oil_prices['date'].dt.year\n",
    "\n",
    "# Group the data by 'year' and calculate the average 'price'\n",
    "avg_oil_price = oil_prices.groupby('Year')['price'].mean().reset_index()\n",
    "\n",
    "# Display the average oil price data\n",
    "avg_oil_price.head()"
   ]
  },
  {
   "cell_type": "code",
   "execution_count": 14,
   "metadata": {},
   "outputs": [
    {
     "data": {
      "image/png": "[encoded data removed]",
      "text/plain": [
       "<Figure size 1400x600 with 2 Axes>"
      ]
     },
     "metadata": {},
     "output_type": "display_data"
    }
   ],
   "source": [
    "# Plot the original oil prices over time\n",
    "plt.figure(figsize=(14, 6))\n",
    "plt.subplot(1, 2, 1)\n",
    "plt.plot(oil_prices['date'], oil_prices['price'], label='Original Data')\n",
    "plt.title('Original Oil Prices Over Time')\n",
    "plt.xlabel('Year')\n",
    "plt.ylabel('Oil Price')\n",
    "plt.grid(True)\n",
    "\n",
    "# Plot the average oil prices per year\n",
    "plt.subplot(1, 2, 2)\n",
    "plt.plot(avg_oil_price['Year'], avg_oil_price['price'], label='Average per Year', color='orange')\n",
    "plt.title('Average Oil Prices Per Year')\n",
    "plt.xlabel('Year')\n",
    "plt.ylabel('Average Oil Price')\n",
    "plt.grid(True)\n",
    "\n",
    "plt.tight_layout()\n",
    "plt.show()"
   ]
  },
  {
   "attachments": {},
   "cell_type": "markdown",
   "metadata": {},
   "source": [
    "### Inflation Data\n",
    "\n",
    "The dataset under consideration contains inflation data for various countries from the year 1970 to 2022.\n",
    "\n",
    "Our data cleaning and preparation steps include:\n",
    "\n",
    "- **Filtering rows**: We start by filtering our data to include only those rows related to \"Headline Consumer Price Inflation\". This is because our analysis focuses only on this particular series.\n",
    "\n",
    "- **Dropping unnecessary columns**: We remove the last six columns from the dataset as they are not needed for our analysis.\n",
    "\n",
    "- **Renaming columns**: We rename the 'Country' column to 'Country Name' for better clarity and consistency with other datasets.\n",
    "\n",
    "- **Data type conversion**: We ensure that the values in the year columns are of numeric type (float) for proper analysis.\n",
    "\n",
    "- **Filtering columns**: We further filter our data to include only those columns related to years from 1996 to 2022, along with non-year columns. This is because our analysis focuses on the period from 1996 to 2022.\n",
    "\n",
    "- **Filling missing values**: Some years in the dataset have missing values. We fill these missing values with the mean value of the rest of the years for that country.\n",
    "\n",
    "- **Removing invalid rows**: We remove any rows that still have null values after our data cleaning process."
   ]
  },
  {
   "cell_type": "code",
   "execution_count": 15,
   "metadata": {},
   "outputs": [],
   "source": [
    "# consider only Headline Consumer Price Inflation\n",
    "inflation = inflation[inflation['Series Name'] == 'Headline Consumer Price Inflation']\n",
    "inflation.drop(inflation.columns[-6:], axis=1, inplace=True)\n",
    "# renaming the 'Country' column to be consistent\n",
    "inflation = inflation.rename(columns={'Country': 'Country Name'})\n",
    "# Change the type of year columns to float\n",
    "for col in inflation.columns[5:]:\n",
    "    inflation[col] = inflation[col].astype(float)"
   ]
  },
  {
   "cell_type": "code",
   "execution_count": 16,
   "metadata": {},
   "outputs": [],
   "source": [
    "# Filter columns\n",
    "cols = [col for col in inflation.columns if (col.isdigit() and int(col) >= 1996) or not col.isdigit()]\n",
    "\n",
    "# Select those columns from inflation\n",
    "inflation = inflation[cols]"
   ]
  },
  {
   "cell_type": "code",
   "execution_count": 17,
   "metadata": {},
   "outputs": [],
   "source": [
    "# Select the columns that you want to operate on\n",
    "year_cols = inflation.columns[5:]\n",
    "\n",
    "# Replace NaN values with row mean\n",
    "inflation.loc[:, year_cols] = inflation.loc[:, year_cols].apply(lambda x: x.fillna(x.mean()), axis=1)\n",
    "\n",
    "# Get rid of the rest of the NaN values\n",
    "inflation = inflation.dropna()"
   ]
  },
  {
   "attachments": {},
   "cell_type": "markdown",
   "metadata": {},
   "source": [
    "### Fertility\n",
    "\n",
    "The dataset under consideration contains fertility data for various countries from the year 1973 to 2021. The fertility rate data is based on the total fertility rate (TFR), which is the number of children that would be born per woman if all women lived to the end of their childbearing years and bore children according to a given fertility rate at each age.\n",
    "\n",
    "Our data cleaning and preparation steps include:\n",
    "\n",
    "- **Renaming columns**: The year columns are initially named in the format 'YYYY [YRYYYY]'. We rename these to just 'YYYY' for simplicity and ease of access.\n",
    "\n",
    "- **Removing unnecessary rows**: We remove the last seven rows from the dataset as they do not correspond to any country.\n",
    "\n",
    "- **Filtering columns**: We further filter our data to include only those columns related to years from 1996 to 2021, along with the 'Country Name' and 'Country Code' columns. This is because our analysis focuses on the period from 1996 to 2021.\n"
   ]
  },
  {
   "cell_type": "code",
   "execution_count": 18,
   "metadata": {},
   "outputs": [],
   "source": [
    "# renaming the columns by removing [YR]\n",
    "fertility = fertility.rename(columns={col: re.sub(r'\\s*\\[YR.*\\]', '', col) for col in fertility.columns[4:]})\n",
    "\n",
    "# removing the last rows that are not countries\n",
    "fertility.drop(fertility.index[-7:], axis=0, inplace=True)\n",
    "\n",
    "# Filter the years to include only those from 1996 to 2021\n",
    "fertility_columns = ['Country Name', 'Country Code'] + [f'{year}' for year in range(1996, 2022)]\n",
    "fertility = fertility[fertility_columns].copy()\n",
    "\n",
    "# Some countries don't have the fertility data for so many years\n",
    "# We will remove those countries\n",
    "fertility = fertility.dropna()"
   ]
  },
  {
   "attachments": {},
   "cell_type": "markdown",
   "metadata": {},
   "source": [
    "### Migration"
   ]
  },
  {
   "cell_type": "code",
   "execution_count": 19,
   "metadata": {},
   "outputs": [],
   "source": [
    "migration.rename(columns={'country_code': 'Country Code', 'country_name': 'Country Name', \n",
    "                          'year': 'Year', 'value': 'Migration'}, inplace=True)"
   ]
  },
  {
   "cell_type": "code",
   "execution_count": 20,
   "metadata": {},
   "outputs": [
    {
     "data": {
      "text/html": [
       "<div>\n",
       "<style scoped>\n",
       "    .dataframe tbody tr th:only-of-type {\n",
       "        vertical-align: middle;\n",
       "    }\n",
       "\n",
       "    .dataframe tbody tr th {\n",
       "        vertical-align: top;\n",
       "    }\n",
       "\n",
       "    .dataframe thead th {\n",
       "        text-align: right;\n",
       "    }\n",
       "</style>\n",
       "<table border=\"1\" class=\"dataframe\">\n",
       "  <thead>\n",
       "    <tr style=\"text-align: right;\">\n",
       "      <th></th>\n",
       "      <th>Country Code</th>\n",
       "      <th>Country Name</th>\n",
       "      <th>Year</th>\n",
       "      <th>Migration</th>\n",
       "    </tr>\n",
       "  </thead>\n",
       "  <tbody>\n",
       "    <tr>\n",
       "      <th>0</th>\n",
       "      <td>ABW</td>\n",
       "      <td>Aruba</td>\n",
       "      <td>1960</td>\n",
       "      <td>0.0</td>\n",
       "    </tr>\n",
       "    <tr>\n",
       "      <th>1</th>\n",
       "      <td>ABW</td>\n",
       "      <td>Aruba</td>\n",
       "      <td>1961</td>\n",
       "      <td>-569.0</td>\n",
       "    </tr>\n",
       "    <tr>\n",
       "      <th>2</th>\n",
       "      <td>ABW</td>\n",
       "      <td>Aruba</td>\n",
       "      <td>1962</td>\n",
       "      <td>-609.0</td>\n",
       "    </tr>\n",
       "    <tr>\n",
       "      <th>3</th>\n",
       "      <td>ABW</td>\n",
       "      <td>Aruba</td>\n",
       "      <td>1963</td>\n",
       "      <td>-646.0</td>\n",
       "    </tr>\n",
       "    <tr>\n",
       "      <th>4</th>\n",
       "      <td>ABW</td>\n",
       "      <td>Aruba</td>\n",
       "      <td>1964</td>\n",
       "      <td>-684.0</td>\n",
       "    </tr>\n",
       "  </tbody>\n",
       "</table>\n",
       "</div>"
      ],
      "text/plain": [
       "  Country Code Country Name  Year  Migration\n",
       "0          ABW        Aruba  1960        0.0\n",
       "1          ABW        Aruba  1961     -569.0\n",
       "2          ABW        Aruba  1962     -609.0\n",
       "3          ABW        Aruba  1963     -646.0\n",
       "4          ABW        Aruba  1964     -684.0"
      ]
     },
     "execution_count": 20,
     "metadata": {},
     "output_type": "execute_result"
    }
   ],
   "source": [
    "migration.head()"
   ]
  },
  {
   "attachments": {},
   "cell_type": "markdown",
   "metadata": {},
   "source": [
    "### CO2 Emissions"
   ]
  },
  {
   "cell_type": "code",
   "execution_count": 21,
   "metadata": {},
   "outputs": [],
   "source": [
    "# Renaming the columns for consistency\n",
    "co2_emission.rename(columns={'Annual CO₂ emissions': 'co2_emission', \n",
    "                             'Code': 'Country Code',\n",
    "                             'Entity': 'Country Name'}, inplace=True)\n",
    "\n",
    "# Getting the emission data after the year 1996 and onwards\n",
    "co2_emission = co2_emission.query(\"Year >= 1996\")"
   ]
  },
  {
   "cell_type": "code",
   "execution_count": 22,
   "metadata": {},
   "outputs": [
    {
     "data": {
      "text/html": [
       "<div>\n",
       "<style scoped>\n",
       "    .dataframe tbody tr th:only-of-type {\n",
       "        vertical-align: middle;\n",
       "    }\n",
       "\n",
       "    .dataframe tbody tr th {\n",
       "        vertical-align: top;\n",
       "    }\n",
       "\n",
       "    .dataframe thead th {\n",
       "        text-align: right;\n",
       "    }\n",
       "</style>\n",
       "<table border=\"1\" class=\"dataframe\">\n",
       "  <thead>\n",
       "    <tr style=\"text-align: right;\">\n",
       "      <th></th>\n",
       "      <th>Country Name</th>\n",
       "      <th>Country Code</th>\n",
       "      <th>Year</th>\n",
       "      <th>co2_emission</th>\n",
       "    </tr>\n",
       "  </thead>\n",
       "  <tbody>\n",
       "    <tr>\n",
       "      <th>47</th>\n",
       "      <td>Afghanistan</td>\n",
       "      <td>AFG</td>\n",
       "      <td>1996</td>\n",
       "      <td>1370104.00</td>\n",
       "    </tr>\n",
       "    <tr>\n",
       "      <th>48</th>\n",
       "      <td>Afghanistan</td>\n",
       "      <td>AFG</td>\n",
       "      <td>1997</td>\n",
       "      <td>1304152.00</td>\n",
       "    </tr>\n",
       "    <tr>\n",
       "      <th>49</th>\n",
       "      <td>Afghanistan</td>\n",
       "      <td>AFG</td>\n",
       "      <td>1998</td>\n",
       "      <td>1278504.00</td>\n",
       "    </tr>\n",
       "    <tr>\n",
       "      <th>50</th>\n",
       "      <td>Afghanistan</td>\n",
       "      <td>AFG</td>\n",
       "      <td>1999</td>\n",
       "      <td>1091640.00</td>\n",
       "    </tr>\n",
       "    <tr>\n",
       "      <th>51</th>\n",
       "      <td>Afghanistan</td>\n",
       "      <td>AFG</td>\n",
       "      <td>2000</td>\n",
       "      <td>1047127.94</td>\n",
       "    </tr>\n",
       "    <tr>\n",
       "      <th>...</th>\n",
       "      <td>...</td>\n",
       "      <td>...</td>\n",
       "      <td>...</td>\n",
       "      <td>...</td>\n",
       "    </tr>\n",
       "    <tr>\n",
       "      <th>31344</th>\n",
       "      <td>Zimbabwe</td>\n",
       "      <td>ZWE</td>\n",
       "      <td>2017</td>\n",
       "      <td>9596071.00</td>\n",
       "    </tr>\n",
       "    <tr>\n",
       "      <th>31345</th>\n",
       "      <td>Zimbabwe</td>\n",
       "      <td>ZWE</td>\n",
       "      <td>2018</td>\n",
       "      <td>11795478.00</td>\n",
       "    </tr>\n",
       "    <tr>\n",
       "      <th>31346</th>\n",
       "      <td>Zimbabwe</td>\n",
       "      <td>ZWE</td>\n",
       "      <td>2019</td>\n",
       "      <td>11114607.00</td>\n",
       "    </tr>\n",
       "    <tr>\n",
       "      <th>31347</th>\n",
       "      <td>Zimbabwe</td>\n",
       "      <td>ZWE</td>\n",
       "      <td>2020</td>\n",
       "      <td>10607897.00</td>\n",
       "    </tr>\n",
       "    <tr>\n",
       "      <th>31348</th>\n",
       "      <td>Zimbabwe</td>\n",
       "      <td>ZWE</td>\n",
       "      <td>2021</td>\n",
       "      <td>11296114.00</td>\n",
       "    </tr>\n",
       "  </tbody>\n",
       "</table>\n",
       "<p>5714 rows × 4 columns</p>\n",
       "</div>"
      ],
      "text/plain": [
       "      Country Name Country Code  Year  co2_emission\n",
       "47     Afghanistan          AFG  1996    1370104.00\n",
       "48     Afghanistan          AFG  1997    1304152.00\n",
       "49     Afghanistan          AFG  1998    1278504.00\n",
       "50     Afghanistan          AFG  1999    1091640.00\n",
       "51     Afghanistan          AFG  2000    1047127.94\n",
       "...            ...          ...   ...           ...\n",
       "31344     Zimbabwe          ZWE  2017    9596071.00\n",
       "31345     Zimbabwe          ZWE  2018   11795478.00\n",
       "31346     Zimbabwe          ZWE  2019   11114607.00\n",
       "31347     Zimbabwe          ZWE  2020   10607897.00\n",
       "31348     Zimbabwe          ZWE  2021   11296114.00\n",
       "\n",
       "[5714 rows x 4 columns]"
      ]
     },
     "execution_count": 22,
     "metadata": {},
     "output_type": "execute_result"
    }
   ],
   "source": [
    "co2_emission.dropna(subset=['Country Code'])"
   ]
  },
  {
   "attachments": {},
   "cell_type": "markdown",
   "metadata": {},
   "source": [
    "### Melting and Combining dateframes"
   ]
  },
  {
   "cell_type": "code",
   "execution_count": 23,
   "metadata": {},
   "outputs": [],
   "source": [
    "## Helper functions\n",
    "def change_column_types(df, first_col, second_col):\n",
    "    df[first_col] = df[first_col].astype(int)\n",
    "    df[second_col] = df[second_col].astype(float)\n",
    "    return df"
   ]
  },
  {
   "cell_type": "code",
   "execution_count": 24,
   "metadata": {},
   "outputs": [],
   "source": [
    "# Drop unwanted columns\n",
    "pop_stab = pop_stab.drop(['Series Name', 'Series Code'], axis=1)\n",
    "\n",
    "# Melt the dataframe\n",
    "pop_stab_melted = pop_stab.melt(id_vars=[\"Country Name\", \"Country Code\"], var_name=\"Year\", value_name=\"Stability\")\n",
    "pop_stab_melted = change_column_types(pop_stab_melted, 'Year', 'Stability')\n",
    "pop_stab_melted = pop_stab_melted[(pop_stab_melted['Year'] >= 1996) & (pop_stab_melted['Year'] <= 2021)]"
   ]
  },
  {
   "cell_type": "code",
   "execution_count": 25,
   "metadata": {},
   "outputs": [],
   "source": [
    "# Drop unwanted columns\n",
    "pop = pop.drop(['Series Name', 'Series Code'], axis=1)\n",
    "\n",
    "# Melt the dataframe\n",
    "pop_melted = pop.melt(id_vars=[\"Country Name\", \"Country Code\"], var_name=\"Year\", value_name=\"Population\")\n",
    "pop_melted = change_column_types(pop_melted, 'Year', 'Population')\n",
    "pop_melted = pop_melted[(pop_melted['Year'] >= 1996) & (pop_melted['Year'] <= 2021)]"
   ]
  },
  {
   "cell_type": "code",
   "execution_count": 26,
   "metadata": {},
   "outputs": [],
   "source": [
    "# Drop unwanted columns\n",
    "urban_pop = urban_pop.drop(['Indicator Name', 'Indicator Code'], axis=1)\n",
    "\n",
    "# Melt the dataframe\n",
    "urban_pop_melted = urban_pop.melt(id_vars=[\"Country Name\", \"Country Code\"], var_name=\"Year\", value_name=\"Urban_Population\")\n",
    "urban_pop_melted = change_column_types(urban_pop_melted, 'Year', 'Urban_Population')\n",
    "urban_pop_melted = urban_pop_melted[(urban_pop_melted['Year'] >= 1996) & (urban_pop_melted['Year'] <= 2021)]"
   ]
  },
  {
   "cell_type": "code",
   "execution_count": 27,
   "metadata": {},
   "outputs": [],
   "source": [
    "# Melt the dataframe\n",
    "hdi_df_melted = hdi_data.melt(id_vars=[\"Country Name\", \"Country Code\"], var_name=\"Year\", value_name=\"HDI\")\n",
    "hdi_df_melted = change_column_types(hdi_df_melted, 'Year', 'HDI')\n",
    "hdi_df_melted = hdi_df_melted[(hdi_df_melted['Year'] >= 1996) & (hdi_df_melted['Year'] <= 2021)]"
   ]
  },
  {
   "cell_type": "code",
   "execution_count": 28,
   "metadata": {},
   "outputs": [],
   "source": [
    "life_exp_df_melted  =  le_data.melt(id_vars=[\"Country Name\", \"Country Code\"], var_name=\"Year\", value_name=\"Life_Expectancy\")\n",
    "life_exp_df_melted = change_column_types(life_exp_df_melted, 'Year', 'Life_Expectancy')\n",
    "life_exp_df_melted = life_exp_df_melted[(life_exp_df_melted['Year'] >= 1996) & (life_exp_df_melted['Year'] <= 2021)]"
   ]
  },
  {
   "cell_type": "code",
   "execution_count": 29,
   "metadata": {},
   "outputs": [],
   "source": [
    "# Drop unwanted columns\n",
    "gdp = gdp.drop(['Series Name', 'Series Code'], axis=1)\n",
    "gdp_melted  =  gdp.melt(id_vars=[\"Country Name\", \"Country Code\"], var_name=\"Year\", value_name=\"GDP\")\n",
    "gdp_melted = change_column_types(gdp_melted, 'Year', 'GDP')\n",
    "gdp_melted = gdp_melted[(gdp_melted['Year'] >= 1996) & (gdp_melted['Year'] <= 2021)]"
   ]
  },
  {
   "cell_type": "code",
   "execution_count": 30,
   "metadata": {},
   "outputs": [],
   "source": [
    "# Drop unwanted columns\n",
    "inflation = inflation.drop(['IMF Country Code', 'Series Name', 'Indicator Type'], axis=1)\n",
    "inflation_melted  =  inflation.melt(id_vars=[\"Country Name\", \"Country Code\"], var_name=\"Year\", value_name=\"Inflation\")\n",
    "inflation_melted = change_column_types(inflation_melted, 'Year', 'Inflation')\n",
    "inflation_melted = inflation_melted[(inflation_melted['Year'] >= 1996) & (inflation_melted['Year'] <= 2021)]"
   ]
  },
  {
   "cell_type": "code",
   "execution_count": 31,
   "metadata": {},
   "outputs": [],
   "source": [
    "fertility_melted = fertility.melt(id_vars=[\"Country Name\", \"Country Code\"], var_name=\"Year\", value_name=\"Fertility\")\n",
    "fertility_melted = change_column_types(fertility_melted, 'Year', 'Fertility')"
   ]
  },
  {
   "cell_type": "code",
   "execution_count": 32,
   "metadata": {},
   "outputs": [
    {
     "data": {
      "text/html": [
       "<div>\n",
       "<style scoped>\n",
       "    .dataframe tbody tr th:only-of-type {\n",
       "        vertical-align: middle;\n",
       "    }\n",
       "\n",
       "    .dataframe tbody tr th {\n",
       "        vertical-align: top;\n",
       "    }\n",
       "\n",
       "    .dataframe thead th {\n",
       "        text-align: right;\n",
       "    }\n",
       "</style>\n",
       "<table border=\"1\" class=\"dataframe\">\n",
       "  <thead>\n",
       "    <tr style=\"text-align: right;\">\n",
       "      <th></th>\n",
       "      <th>Country Name</th>\n",
       "      <th>Country Code</th>\n",
       "      <th>Year</th>\n",
       "      <th>Fertility</th>\n",
       "    </tr>\n",
       "  </thead>\n",
       "  <tbody>\n",
       "    <tr>\n",
       "      <th>0</th>\n",
       "      <td>Afghanistan</td>\n",
       "      <td>AFG</td>\n",
       "      <td>1996</td>\n",
       "      <td>7.709</td>\n",
       "    </tr>\n",
       "    <tr>\n",
       "      <th>1</th>\n",
       "      <td>Albania</td>\n",
       "      <td>ALB</td>\n",
       "      <td>1996</td>\n",
       "      <td>2.615</td>\n",
       "    </tr>\n",
       "    <tr>\n",
       "      <th>2</th>\n",
       "      <td>Algeria</td>\n",
       "      <td>DZA</td>\n",
       "      <td>1996</td>\n",
       "      <td>3.136</td>\n",
       "    </tr>\n",
       "    <tr>\n",
       "      <th>3</th>\n",
       "      <td>Angola</td>\n",
       "      <td>AGO</td>\n",
       "      <td>1996</td>\n",
       "      <td>6.851</td>\n",
       "    </tr>\n",
       "    <tr>\n",
       "      <th>4</th>\n",
       "      <td>Antigua and Barbuda</td>\n",
       "      <td>ATG</td>\n",
       "      <td>1996</td>\n",
       "      <td>2.266</td>\n",
       "    </tr>\n",
       "  </tbody>\n",
       "</table>\n",
       "</div>"
      ],
      "text/plain": [
       "          Country Name Country Code  Year  Fertility\n",
       "0          Afghanistan          AFG  1996      7.709\n",
       "1              Albania          ALB  1996      2.615\n",
       "2              Algeria          DZA  1996      3.136\n",
       "3               Angola          AGO  1996      6.851\n",
       "4  Antigua and Barbuda          ATG  1996      2.266"
      ]
     },
     "execution_count": 32,
     "metadata": {},
     "output_type": "execute_result"
    }
   ],
   "source": [
    "fertility_melted.head()"
   ]
  },
  {
   "cell_type": "code",
   "execution_count": 33,
   "metadata": {},
   "outputs": [],
   "source": [
    "avg_oil_price_melted = change_column_types(avg_oil_price, 'Year', 'price')\n",
    "avg_oil_price_melted = avg_oil_price_melted[(avg_oil_price_melted['Year']>=1996) & (avg_oil_price_melted['Year']<=2021)]"
   ]
  },
  {
   "cell_type": "code",
   "execution_count": 34,
   "metadata": {},
   "outputs": [],
   "source": [
    "# Filtering the co2_emission dataframe for the years 1996 to 2021\n",
    "#co2_emission = co2_emission[(co2_emission['Year'] >= 1996) & (co2_emission['Year'] <= 2021)]"
   ]
  },
  {
   "cell_type": "code",
   "execution_count": 35,
   "metadata": {},
   "outputs": [],
   "source": [
    "query = \"\"\"\n",
    "SELECT A.'Country Name' as 'Country Name', A.'Country Code', A.Year, A.Stability, B.Inflation, \n",
    "        C.Population, D.Urban_Population, E.HDI, F.Life_Expectancy, G.GDP, H.Migration,\n",
    "        I.Fertility, J.co2_emission\n",
    "\n",
    "FROM pop_stab_melted AS A\n",
    "INNER JOIN inflation_melted AS B ON A.'Country Code' = B.'Country Code' AND A.Year = B.Year\n",
    "INNER JOIN pop_melted AS C ON A.'Country Code' = C.'Country Code' AND A.Year = C.Year\n",
    "INNER JOIN urban_pop_melted AS D ON A.'Country Code' = D.'Country Code' AND A.Year = D.Year\n",
    "INNER JOIN hdi_df_melted AS E ON A.'Country Code' = E.'Country Code' AND A.Year = E.Year\n",
    "INNER JOIN life_exp_df_melted AS F ON A.'Country Code' = F.'Country Code' AND A.Year = F.Year\n",
    "INNER JOIN gdp_melted AS G ON A.'Country Code' = G.'Country Code' AND A.Year = G.Year\n",
    "INNER JOIN migration AS H ON A.'Country Code' = H.'Country Code' AND A.Year = H.Year\n",
    "INNER JOIN fertility_melted AS I ON A.'Country Code' = I.'Country Code' AND A.Year = I.Year\n",
    "INNER JOIN co2_emission AS J ON A.'Country Code' = J.'Country Code' AND A.Year = J.Year\n",
    "\"\"\"\n",
    "\n",
    "merged_df = ps.sqldf(query, locals())"
   ]
  },
  {
   "cell_type": "code",
   "execution_count": 36,
   "metadata": {},
   "outputs": [],
   "source": [
    "merged_df.to_csv('test.csv')"
   ]
  },
  {
   "cell_type": "code",
   "execution_count": 37,
   "metadata": {},
   "outputs": [
    {
     "data": {
      "text/html": [
       "<div>\n",
       "<style scoped>\n",
       "    .dataframe tbody tr th:only-of-type {\n",
       "        vertical-align: middle;\n",
       "    }\n",
       "\n",
       "    .dataframe tbody tr th {\n",
       "        vertical-align: top;\n",
       "    }\n",
       "\n",
       "    .dataframe thead th {\n",
       "        text-align: right;\n",
       "    }\n",
       "</style>\n",
       "<table border=\"1\" class=\"dataframe\">\n",
       "  <thead>\n",
       "    <tr style=\"text-align: right;\">\n",
       "      <th></th>\n",
       "      <th>Country Name</th>\n",
       "      <th>Country Code</th>\n",
       "      <th>Year</th>\n",
       "      <th>Stability</th>\n",
       "      <th>Inflation</th>\n",
       "      <th>Population</th>\n",
       "      <th>Urban_Population</th>\n",
       "      <th>HDI</th>\n",
       "      <th>Life_Expectancy</th>\n",
       "      <th>GDP</th>\n",
       "      <th>Migration</th>\n",
       "      <th>Fertility</th>\n",
       "      <th>co2_emission</th>\n",
       "    </tr>\n",
       "  </thead>\n",
       "  <tbody>\n",
       "    <tr>\n",
       "      <th>0</th>\n",
       "      <td>Afghanistan</td>\n",
       "      <td>AFG</td>\n",
       "      <td>1996</td>\n",
       "      <td>-2.417310</td>\n",
       "      <td>14.01</td>\n",
       "      <td>17106595.0</td>\n",
       "      <td>21.714</td>\n",
       "      <td>0.319</td>\n",
       "      <td>53.2433</td>\n",
       "      <td>3.854235e+09</td>\n",
       "      <td>27194.0</td>\n",
       "      <td>7.709</td>\n",
       "      <td>1370104.0</td>\n",
       "    </tr>\n",
       "    <tr>\n",
       "      <th>1</th>\n",
       "      <td>Albania</td>\n",
       "      <td>ALB</td>\n",
       "      <td>1996</td>\n",
       "      <td>-0.336625</td>\n",
       "      <td>12.80</td>\n",
       "      <td>3168033.0</td>\n",
       "      <td>39.473</td>\n",
       "      <td>0.645</td>\n",
       "      <td>74.5923</td>\n",
       "      <td>3.199641e+09</td>\n",
       "      <td>-65800.0</td>\n",
       "      <td>2.615</td>\n",
       "      <td>2017508.0</td>\n",
       "    </tr>\n",
       "    <tr>\n",
       "      <th>2</th>\n",
       "      <td>Algeria</td>\n",
       "      <td>DZA</td>\n",
       "      <td>1996</td>\n",
       "      <td>-1.783311</td>\n",
       "      <td>18.70</td>\n",
       "      <td>28984634.0</td>\n",
       "      <td>56.774</td>\n",
       "      <td>0.617</td>\n",
       "      <td>68.7493</td>\n",
       "      <td>4.694158e+10</td>\n",
       "      <td>-9849.0</td>\n",
       "      <td>3.136</td>\n",
       "      <td>96786280.0</td>\n",
       "    </tr>\n",
       "    <tr>\n",
       "      <th>3</th>\n",
       "      <td>Angola</td>\n",
       "      <td>AGO</td>\n",
       "      <td>1996</td>\n",
       "      <td>-2.061917</td>\n",
       "      <td>4146.01</td>\n",
       "      <td>14383350.0</td>\n",
       "      <td>45.346</td>\n",
       "      <td>0.364</td>\n",
       "      <td>46.0329</td>\n",
       "      <td>7.526447e+09</td>\n",
       "      <td>45356.0</td>\n",
       "      <td>6.851</td>\n",
       "      <td>10423993.0</td>\n",
       "    </tr>\n",
       "    <tr>\n",
       "      <th>4</th>\n",
       "      <td>Antigua and Barbuda</td>\n",
       "      <td>ATG</td>\n",
       "      <td>1996</td>\n",
       "      <td>0.717077</td>\n",
       "      <td>2.96</td>\n",
       "      <td>69798.0</td>\n",
       "      <td>33.590</td>\n",
       "      <td>0.802</td>\n",
       "      <td>73.8291</td>\n",
       "      <td>6.337296e+08</td>\n",
       "      <td>478.0</td>\n",
       "      <td>2.266</td>\n",
       "      <td>238160.0</td>\n",
       "    </tr>\n",
       "  </tbody>\n",
       "</table>\n",
       "</div>"
      ],
      "text/plain": [
       "          Country Name Country Code  Year  Stability  Inflation  Population  \\\n",
       "0          Afghanistan          AFG  1996  -2.417310      14.01  17106595.0   \n",
       "1              Albania          ALB  1996  -0.336625      12.80   3168033.0   \n",
       "2              Algeria          DZA  1996  -1.783311      18.70  28984634.0   \n",
       "3               Angola          AGO  1996  -2.061917    4146.01  14383350.0   \n",
       "4  Antigua and Barbuda          ATG  1996   0.717077       2.96     69798.0   \n",
       "\n",
       "   Urban_Population    HDI  Life_Expectancy           GDP  Migration  \\\n",
       "0            21.714  0.319          53.2433  3.854235e+09    27194.0   \n",
       "1            39.473  0.645          74.5923  3.199641e+09   -65800.0   \n",
       "2            56.774  0.617          68.7493  4.694158e+10    -9849.0   \n",
       "3            45.346  0.364          46.0329  7.526447e+09    45356.0   \n",
       "4            33.590  0.802          73.8291  6.337296e+08      478.0   \n",
       "\n",
       "   Fertility  co2_emission  \n",
       "0      7.709     1370104.0  \n",
       "1      2.615     2017508.0  \n",
       "2      3.136    96786280.0  \n",
       "3      6.851    10423993.0  \n",
       "4      2.266      238160.0  "
      ]
     },
     "execution_count": 37,
     "metadata": {},
     "output_type": "execute_result"
    }
   ],
   "source": [
    "merged_df.head()"
   ]
  },
  {
   "cell_type": "code",
   "execution_count": 46,
   "metadata": {},
   "outputs": [],
   "source": [
    "# Prepare data\n",
    "grouped = merged_df.groupby('Country Name')\n",
    "time_series_data = []\n",
    "country_names = []  # List to keep track of country names\n",
    "for name, group in grouped:\n",
    "    group = group.sort_values('Year')\n",
    "    time_series_data.append(group[[\"Stability\",\"Inflation\",\"Population\",\"Urban_Population\",\"HDI\",\"Life_Expectancy\",\"GDP\",\"Migration\", \"Fertility\"]].values)\n",
    "    country_names.append(name)  # Add country name to the list"
   ]
  },
  {
   "cell_type": "code",
   "execution_count": 64,
   "metadata": {},
   "outputs": [
    {
     "data": {
      "text/html": [
       "<style>#sk-container-id-7 {color: black;background-color: white;}#sk-container-id-7 pre{padding: 0;}#sk-container-id-7 div.sk-toggleable {background-color: white;}#sk-container-id-7 label.sk-toggleable__label {cursor: pointer;display: block;width: 100%;margin-bottom: 0;padding: 0.3em;box-sizing: border-box;text-align: center;}#sk-container-id-7 label.sk-toggleable__label-arrow:before {content: \"▸\";float: left;margin-right: 0.25em;color: #696969;}#sk-container-id-7 label.sk-toggleable__label-arrow:hover:before {color: black;}#sk-container-id-7 div.sk-estimator:hover label.sk-toggleable__label-arrow:before {color: black;}#sk-container-id-7 div.sk-toggleable__content {max-height: 0;max-width: 0;overflow: hidden;text-align: left;background-color: #f0f8ff;}#sk-container-id-7 div.sk-toggleable__content pre {margin: 0.2em;color: black;border-radius: 0.25em;background-color: #f0f8ff;}#sk-container-id-7 input.sk-toggleable__control:checked~div.sk-toggleable__content {max-height: 200px;max-width: 100%;overflow: auto;}#sk-container-id-7 input.sk-toggleable__control:checked~label.sk-toggleable__label-arrow:before {content: \"▾\";}#sk-container-id-7 div.sk-estimator input.sk-toggleable__control:checked~label.sk-toggleable__label {background-color: #d4ebff;}#sk-container-id-7 div.sk-label input.sk-toggleable__control:checked~label.sk-toggleable__label {background-color: #d4ebff;}#sk-container-id-7 input.sk-hidden--visually {border: 0;clip: rect(1px 1px 1px 1px);clip: rect(1px, 1px, 1px, 1px);height: 1px;margin: -1px;overflow: hidden;padding: 0;position: absolute;width: 1px;}#sk-container-id-7 div.sk-estimator {font-family: monospace;background-color: #f0f8ff;border: 1px dotted black;border-radius: 0.25em;box-sizing: border-box;margin-bottom: 0.5em;}#sk-container-id-7 div.sk-estimator:hover {background-color: #d4ebff;}#sk-container-id-7 div.sk-parallel-item::after {content: \"\";width: 100%;border-bottom: 1px solid gray;flex-grow: 1;}#sk-container-id-7 div.sk-label:hover label.sk-toggleable__label {background-color: #d4ebff;}#sk-container-id-7 div.sk-serial::before {content: \"\";position: absolute;border-left: 1px solid gray;box-sizing: border-box;top: 0;bottom: 0;left: 50%;z-index: 0;}#sk-container-id-7 div.sk-serial {display: flex;flex-direction: column;align-items: center;background-color: white;padding-right: 0.2em;padding-left: 0.2em;position: relative;}#sk-container-id-7 div.sk-item {position: relative;z-index: 1;}#sk-container-id-7 div.sk-parallel {display: flex;align-items: stretch;justify-content: center;background-color: white;position: relative;}#sk-container-id-7 div.sk-item::before, #sk-container-id-7 div.sk-parallel-item::before {content: \"\";position: absolute;border-left: 1px solid gray;box-sizing: border-box;top: 0;bottom: 0;left: 50%;z-index: -1;}#sk-container-id-7 div.sk-parallel-item {display: flex;flex-direction: column;z-index: 1;position: relative;background-color: white;}#sk-container-id-7 div.sk-parallel-item:first-child::after {align-self: flex-end;width: 50%;}#sk-container-id-7 div.sk-parallel-item:last-child::after {align-self: flex-start;width: 50%;}#sk-container-id-7 div.sk-parallel-item:only-child::after {width: 0;}#sk-container-id-7 div.sk-dashed-wrapped {border: 1px dashed gray;margin: 0 0.4em 0.5em 0.4em;box-sizing: border-box;padding-bottom: 0.4em;background-color: white;}#sk-container-id-7 div.sk-label label {font-family: monospace;font-weight: bold;display: inline-block;line-height: 1.2em;}#sk-container-id-7 div.sk-label-container {text-align: center;}#sk-container-id-7 div.sk-container {/* jupyter's `normalize.less` sets `[hidden] { display: none; }` but bootstrap.min.css set `[hidden] { display: none !important; }` so we also need the `!important` here to be able to override the default hidden behavior on the sphinx rendered scikit-learn.org. See: https://github.com/scikit-learn/scikit-learn/issues/21755 */display: inline-block !important;position: relative;}#sk-container-id-7 div.sk-text-repr-fallback {display: none;}</style><div id=\"sk-container-id-7\" class=\"sk-top-container\"><div class=\"sk-text-repr-fallback\"><pre>TimeSeriesKMeans(max_iter=5, metric=&#x27;dtw&#x27;, n_clusters=5, random_state=0)</pre><b>In a Jupyter environment, please rerun this cell to show the HTML representation or trust the notebook. <br />On GitHub, the HTML representation is unable to render, please try loading this page with nbviewer.org.</b></div><div class=\"sk-container\" hidden><div class=\"sk-item\"><div class=\"sk-estimator sk-toggleable\"><input class=\"sk-toggleable__control sk-hidden--visually\" id=\"sk-estimator-id-7\" type=\"checkbox\" checked><label for=\"sk-estimator-id-7\" class=\"sk-toggleable__label sk-toggleable__label-arrow\">TimeSeriesKMeans</label><div class=\"sk-toggleable__content\"><pre>TimeSeriesKMeans(max_iter=5, metric=&#x27;dtw&#x27;, n_clusters=5, random_state=0)</pre></div></div></div></div></div>"
      ],
      "text/plain": [
       "TimeSeriesKMeans(max_iter=5, metric='dtw', n_clusters=5, random_state=0)"
      ]
     },
     "execution_count": 64,
     "metadata": {},
     "output_type": "execute_result"
    }
   ],
   "source": [
    "# Data normalization\n",
    "time_series_data = [TimeSeriesScalerMeanVariance().fit_transform(ts).squeeze() for ts in time_series_data]\n",
    "X = to_time_series_dataset(time_series_data)\n",
    "\n",
    "# Clustering\n",
    "model = TimeSeriesKMeans(n_clusters=5, metric=\"dtw\", max_iter=5, random_state=0)\n",
    "model.fit(X)"
   ]
  },
  {
   "cell_type": "code",
   "execution_count": 62,
   "metadata": {},
   "outputs": [
    {
     "name": "stdout",
     "output_type": "stream",
     "text": [
      "Countries in cluster 1: Angola, Armenia, Azerbaijan, Bhutan, Bolivia, Cameroon, China, Comoros, Congo, Rep., Cote d'Ivoire, Djibouti, Egypt, Arab Rep., Georgia, Guyana, Honduras, Indonesia, Iraq, Kiribati, Mauritania, Moldova, Mongolia, Nicaragua, Nigeria, Papua New Guinea, Philippines, Sao Tome and Principe, Senegal, Solomon Islands, Sri Lanka, Sudan, Turkmenistan, Ukraine\n",
      "Countries in cluster 2: Antigua and Barbuda, Argentina, Australia, Austria, Bahamas, The, Bahrain, Barbados, Belgium, Belize, Botswana, Brazil, Brunei Darussalam, Canada, Chile, Costa Rica, Croatia, Cyprus, Czech Republic, Denmark, Dominica, Estonia, Finland, France, Gabon, Germany, Greece, Grenada, Hong Kong SAR, China, Hungary, Iceland, Ireland, Israel, Italy, Jamaica, Japan, Korea, Rep., Kuwait, Latvia, Lebanon, Libya, Lithuania, Luxembourg, Malaysia, Malta, Mauritius, Mexico, Netherlands, New Zealand, Norway, Oman, Panama, Poland, Portugal, Qatar, Saudi Arabia, Singapore, Slovak Republic, Slovenia, South Africa, Spain, St. Kitts and Nevis, St. Lucia, St. Vincent and the Grenadines, Sweden, Switzerland, Trinidad and Tobago, Turkiye, United Arab Emirates, United Kingdom, United States, Uruguay, Venezuela, RB\n",
      "Countries in cluster 3: Afghanistan, Burundi, Central African Republic, Chad, Congo, Dem. Rep., Ethiopia, Guinea-Bissau, Madagascar, Malawi, Myanmar, Nepal, Niger, Rwanda, Sierra Leone, Tajikistan, Uganda\n",
      "Countries in cluster 4: Albania, Algeria, Belarus, Bosnia and Herzegovina, Bulgaria, Cabo Verde, Colombia, Dominican Republic, Ecuador, El Salvador, Equatorial Guinea, Eswatini, Fiji, Guatemala, Iran, Islamic Rep., Jordan, Kazakhstan, Maldives, Marshall Islands, Micronesia, Fed. Sts., Montenegro, Morocco, Namibia, North Macedonia, Paraguay, Peru, Romania, Russian Federation, Samoa, Serbia, South Sudan, Suriname, Syrian Arab Republic, Thailand, Tonga, Tunisia, Tuvalu, Vanuatu\n",
      "Countries in cluster 5: Bangladesh, Benin, Burkina Faso, Cambodia, Eritrea, Gambia, The, Ghana, Guinea, Haiti, India, Kenya, Kyrgyz Republic, Lao PDR, Lesotho, Liberia, Mali, Mozambique, Pakistan, Tanzania, Timor-Leste, Togo, Uzbekistan, Vietnam, Yemen, Rep., Zambia, Zimbabwe\n"
     ]
    }
   ],
   "source": [
    "# Get the cluster assignments for each time series\n",
    "labels = model.labels_\n",
    "\n",
    "# Group country names by cluster\n",
    "clusters = {i: [] for i in range(5)}\n",
    "for country_name, label in zip(country_names, labels):\n",
    "    clusters[label].append(country_name)\n",
    "\n",
    "for i in range(5):\n",
    "    print(f\"Countries in cluster {i+1}: {', '.join(clusters[i])}\")"
   ]
  },
  {
   "cell_type": "code",
   "execution_count": 66,
   "metadata": {},
   "outputs": [
    {
     "data": {
      "image/png": "[encoded data removed]",
      "text/plain": [
       "<Figure size 640x480 with 1 Axes>"
      ]
     },
     "metadata": {},
     "output_type": "display_data"
    }
   ],
   "source": [
    "inertia = []\n",
    "range_n_clusters = range(2, 10)  # Adjust depending on your data\n",
    "\n",
    "for n_clusters in range_n_clusters:\n",
    "    model = TimeSeriesKMeans(n_clusters=n_clusters, metric=\"dtw\", max_iter=5, random_state=0)\n",
    "    model.fit(X)\n",
    "    inertia.append(model.inertia_)\n",
    "\n",
    "# Plot inertia for each value of k\n",
    "plt.figure()\n",
    "plt.plot(range_n_clusters, inertia, 'bx-')\n",
    "plt.xlabel('k')\n",
    "plt.ylabel('Inertia')\n",
    "plt.title('Elbow Method For Optimal k')\n",
    "plt.show()"
   ]
  },
  {
   "cell_type": "code",
   "execution_count": 183,
   "metadata": {},
   "outputs": [
    {
     "data": {
      "text/html": [
       "<div>\n",
       "<style scoped>\n",
       "    .dataframe tbody tr th:only-of-type {\n",
       "        vertical-align: middle;\n",
       "    }\n",
       "\n",
       "    .dataframe tbody tr th {\n",
       "        vertical-align: top;\n",
       "    }\n",
       "\n",
       "    .dataframe thead th {\n",
       "        text-align: right;\n",
       "    }\n",
       "</style>\n",
       "<table border=\"1\" class=\"dataframe\">\n",
       "  <thead>\n",
       "    <tr style=\"text-align: right;\">\n",
       "      <th></th>\n",
       "      <th>Cluster</th>\n",
       "      <th>Countries</th>\n",
       "    </tr>\n",
       "  </thead>\n",
       "  <tbody>\n",
       "    <tr>\n",
       "      <th>0</th>\n",
       "      <td>0</td>\n",
       "      <td>[Albania, Armenia, Azerbaijan, Bhutan, Bolivia...</td>\n",
       "    </tr>\n",
       "    <tr>\n",
       "      <th>1</th>\n",
       "      <td>1</td>\n",
       "      <td>[Burundi, Congo, Dem. Rep., Ethiopia, Malawi, ...</td>\n",
       "    </tr>\n",
       "    <tr>\n",
       "      <th>2</th>\n",
       "      <td>2</td>\n",
       "      <td>[Algeria, Antigua and Barbuda, Argentina, Aust...</td>\n",
       "    </tr>\n",
       "    <tr>\n",
       "      <th>3</th>\n",
       "      <td>3</td>\n",
       "      <td>[Afghanistan, Burkina Faso, Cambodia, Central ...</td>\n",
       "    </tr>\n",
       "    <tr>\n",
       "      <th>4</th>\n",
       "      <td>4</td>\n",
       "      <td>[Angola, Bangladesh, Benin, Gambia, The, Ghana...</td>\n",
       "    </tr>\n",
       "  </tbody>\n",
       "</table>\n",
       "</div>"
      ],
      "text/plain": [
       "   Cluster                                          Countries\n",
       "0        0  [Albania, Armenia, Azerbaijan, Bhutan, Bolivia...\n",
       "1        1  [Burundi, Congo, Dem. Rep., Ethiopia, Malawi, ...\n",
       "2        2  [Algeria, Antigua and Barbuda, Argentina, Aust...\n",
       "3        3  [Afghanistan, Burkina Faso, Cambodia, Central ...\n",
       "4        4  [Angola, Bangladesh, Benin, Gambia, The, Ghana..."
      ]
     },
     "execution_count": 183,
     "metadata": {},
     "output_type": "execute_result"
    }
   ],
   "source": [
    "clusters_df = pd.DataFrame(clusters.items(), columns=['Cluster', 'Countries'])\n",
    "clusters_df.head"
   ]
  },
  {
   "cell_type": "code",
   "execution_count": 72,
   "metadata": {},
   "outputs": [],
   "source": [
    "cluster_1 = clusters[0]\n",
    "cluster_2 = clusters[1]\n",
    "cluster_3 = clusters[2]\n",
    "cluster_4 = clusters[3]\n",
    "cluster_5 = clusters[4]"
   ]
  },
  {
   "cell_type": "code",
   "execution_count": 77,
   "metadata": {},
   "outputs": [],
   "source": [
    "# Filter the dataframe to include only the countries in cluster 1\n",
    "cluster_1_df = merged_df[merged_df['Country Name'].isin(cluster_1)]\n",
    "\n",
    "# Filter the dataframe to include only the countries in cluster 2\n",
    "cluster_2_df = merged_df[merged_df['Country Name'].isin(cluster_2)]\n",
    "\n",
    "# Filter the dataframe to include only the countries in cluster 3\n",
    "cluster_3_df = merged_df[merged_df['Country Name'].isin(cluster_3)]\n",
    "\n",
    "# Filter the dataframe to include only the countries in cluster 4\n",
    "cluster_4_df = merged_df[merged_df['Country Name'].isin(cluster_4)]\n",
    "\n",
    "# Filter the dataframe to include only the countries in cluster 5\n",
    "cluster_5_df = merged_df[merged_df['Country Name'].isin(cluster_5)]"
   ]
  },
  {
   "cell_type": "code",
   "execution_count": 187,
   "metadata": {},
   "outputs": [
    {
     "data": {
      "image/png": "[encoded data removed]",
      "text/plain": [
       "<Figure size 1400x700 with 1 Axes>"
      ]
     },
     "metadata": {},
     "output_type": "display_data"
    }
   ],
   "source": [
    "# Assuming the dataframe test_data is the GDP data\n",
    "# Create a list of countries\n",
    "countries = [\"Myanmar\", \"Thailand\", \"Bangladesh\"]\n",
    "\n",
    "# Filter the data for the given countries\n",
    "gdp_data = pop_stab[pop_stab['Country Name'].isin(countries)]\n",
    "\n",
    "# Melt the dataframe to have years in a single column and GDP values in another\n",
    "gdp_data_melted = pop_stab.melt(id_vars=['Country Name', 'Country Code'], var_name='Year', value_name='GDP')\n",
    "\n",
    "# Convert year to numeric type\n",
    "gdp_data_melted['Year'] = pd.to_numeric(gdp_data_melted['Year'])\n",
    "\n",
    "# Normalize the GDP values for each country based on its own maximum GDP value\n",
    "gdp_data_melted['GDP_normalized'] = gdp_data_melted.groupby('Country Name')['GDP'].transform(lambda x: (x - x.min()) / (x.max() - x.min()))\n",
    "\n",
    "# Plot the normalized GDP of each country over years\n",
    "plt.figure(figsize=[14,7])\n",
    "for country in countries:\n",
    "    data = gdp_data_melted[gdp_data_melted['Country Name'] == country]\n",
    "    plt.plot(data['Year'], data['GDP_normalized'], label=country)\n",
    "\n",
    "plt.title('Normalized GDP Over Time (1996-2021)')\n",
    "plt.xlabel('Year')\n",
    "plt.ylabel('Normalized GDP')\n",
    "plt.legend()\n",
    "plt.grid(True)\n",
    "plt.show()\n"
   ]
  },
  {
   "cell_type": "code",
   "execution_count": 126,
   "metadata": {},
   "outputs": [],
   "source": [
    "from sklearn.preprocessing import MinMaxScaler\n",
    "from sklearn.model_selection import train_test_split\n",
    "from keras.preprocessing.sequence import TimeseriesGenerator\n",
    "\n",
    "# We will predict the co2_emission, so we'll treat it as our target variable\n",
    "target = \"co2_emission\"\n",
    "\n",
    "# Create a copy of the dataframe to avoid modifying the original\n",
    "data_lstm = cluster_1_df.copy()\n",
    "\n",
    "# Drop unnecessary columns\n",
    "data_lstm.drop(columns=[\"Country Name\", \"Country Code\"], inplace=True)\n",
    "\n",
    "# The LSTM expects data to have a certain shape, we need to prepare the data accordingly\n",
    "\n",
    "# Create a dict to hold the data for each country\n",
    "country_data_dict = {}\n",
    "\n",
    "# Normalize the data to aid LSTM training\n",
    "scaler = MinMaxScaler()\n",
    "\n",
    "# Go through each country and prepare the data\n",
    "for country_code in cluster_1_df[\"Country Code\"].unique():\n",
    "    # Get the data for this country\n",
    "    country_data = data_lstm[cluster_1_df[\"Country Code\"] == country_code].copy()  # Create a copy here\n",
    "    \n",
    "    # Sort the data by Year\n",
    "    country_data = country_data.sort_values(\"Year\")  # Assign the result back instead of sorting in-place\n",
    "    \n",
    "    # Normalize the data\n",
    "    country_data = pd.DataFrame(scaler.fit_transform(country_data), columns=country_data.columns)\n",
    "    \n",
    "    # Drop the Year column\n",
    "    country_data = country_data.drop(columns=[\"Year\"])  # Assign the result back instead of dropping in-place\n",
    "    \n",
    "    # Convert the data to the format expected by the LSTM\n",
    "    country_data_dict[country_code] = country_data.values\n",
    "\n",
    "# Split the data into training and testing sets\n",
    "train_data_dict = {country_code: country_data[:-int(len(country_data)*0.2)] for country_code, country_data in country_data_dict.items()}\n",
    "test_data_dict = {country_code: country_data[-int(len(country_data)*0.2):] for country_code, country_data in country_data_dict.items()}"
   ]
  },
  {
   "cell_type": "code",
   "execution_count": 133,
   "metadata": {},
   "outputs": [
    {
     "data": {
      "text/plain": [
       "((576, 3, 10), (64, 3, 10))"
      ]
     },
     "execution_count": 133,
     "metadata": {},
     "output_type": "execute_result"
    }
   ],
   "source": [
    "# Generate sequences for training\n",
    "# We'll use a sliding window approach where we use the past N years of data to predict the next year's co2_emission\n",
    "N = 3  # window size\n",
    "\n",
    "train_sequences = []\n",
    "train_targets = []\n",
    "\n",
    "for country_data in train_data_dict.values():\n",
    "    for i in range(N, len(country_data)):\n",
    "        train_sequences.append(country_data[i-N:i])\n",
    "        train_targets.append(country_data[i][-1])  # The target is the last column, co2_emission\n",
    "\n",
    "train_sequences = np.array(train_sequences)\n",
    "train_targets = np.array(train_targets)\n",
    "\n",
    "# We'll do the same for the testing data\n",
    "test_sequences = []\n",
    "test_targets = []\n",
    "\n",
    "for country_data in test_data_dict.values():\n",
    "    for i in range(N, len(country_data)):\n",
    "        test_sequences.append(country_data[i-N:i])\n",
    "        test_targets.append(country_data[i][-1])  # The target is the last column, co2_emission\n",
    "\n",
    "test_sequences = np.array(test_sequences)\n",
    "test_targets = np.array(test_targets)\n",
    "\n",
    "train_sequences.shape, test_sequences.shape\n"
   ]
  },
  {
   "cell_type": "code",
   "execution_count": 134,
   "metadata": {},
   "outputs": [
    {
     "name": "stdout",
     "output_type": "stream",
     "text": [
      "Test Loss: 0.08739791810512543\n"
     ]
    }
   ],
   "source": [
    "from keras.models import Sequential\n",
    "from keras.layers import LSTM, Dense\n",
    "\n",
    "# Define the LSTM model\n",
    "model = Sequential()\n",
    "model.add(LSTM(50, activation='relu', input_shape=(train_sequences.shape[1], train_sequences.shape[2])))\n",
    "model.add(Dense(1))\n",
    "model.compile(optimizer='adam', loss='mse')\n",
    "\n",
    "# Train the model\n",
    "history = model.fit(train_sequences, train_targets, epochs=200, verbose=0)\n",
    "\n",
    "# Evaluate the model\n",
    "loss = model.evaluate(test_sequences, test_targets, verbose=0)\n",
    "print(f'Test Loss: {loss}')\n"
   ]
  },
  {
   "cell_type": "code",
   "execution_count": null,
   "metadata": {},
   "outputs": [],
   "source": [
    "# We'll do the same for the testing data\n",
    "test_sequences = []\n",
    "test_targets = []\n",
    "\n",
    "for country_data in test_data_dict.values():\n",
    "    for i in range(N, len(country_data)):\n",
    "        test_sequences.append(country_data[i-N:i])\n",
    "        test_targets.append(country_data[i][-1])  # The target is the last column, co2_emission\n",
    "\n",
    "test_sequences = np.array(test_sequences)\n",
    "test_targets = np.array(test_targets)\n",
    "\n",
    "train_sequences.shape, test_sequences.shape\n"
   ]
  },
  {
   "cell_type": "code",
   "execution_count": 114,
   "metadata": {},
   "outputs": [
    {
     "ename": "NameError",
     "evalue": "name 'country_data' is not defined",
     "output_type": "error",
     "traceback": [
      "\u001b[0;31m---------------------------------------------------------------------------\u001b[0m",
      "\u001b[0;31mNameError\u001b[0m                                 Traceback (most recent call last)",
      "Cell \u001b[0;32mIn[114], line 1\u001b[0m\n\u001b[0;32m----> 1\u001b[0m country_data\n",
      "\u001b[0;31mNameError\u001b[0m: name 'country_data' is not defined"
     ]
    }
   ],
   "source": []
  },
  {
   "cell_type": "code",
   "execution_count": null,
   "metadata": {},
   "outputs": [],
   "source": []
  }
 ],
 "metadata": {
  "kernelspec": {
   "display_name": "Python 3",
   "language": "python",
   "name": "python3"
  },
  "language_info": {
   "codemirror_mode": {
    "name": "ipython",
    "version": 3
   },
   "file_extension": ".py",
   "mimetype": "text/x-python",
   "name": "python",
   "nbconvert_exporter": "python",
   "pygments_lexer": "ipython3",
   "version": "3.10.11"
  },
  "orig_nbformat": 4
 },
 "nbformat": 4,
 "nbformat_minor": 2
}
