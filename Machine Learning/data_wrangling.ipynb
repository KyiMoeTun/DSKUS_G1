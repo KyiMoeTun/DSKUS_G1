{
 "cells": [
  {
   "cell_type": "code",
   "execution_count": 77,
   "metadata": {},
   "outputs": [],
   "source": [
    "import pandas as pd\n",
    "import numpy as np\n",
    "import matplotlib.pyplot as plt \n",
    "import re"
   ]
  },
  {
   "cell_type": "code",
   "execution_count": 80,
   "metadata": {},
   "outputs": [],
   "source": [
    "# reading the datasets from the directory Datasets/SocioEconomic\n",
    "# read the pop_stab dataframe up to 214 rows only\n",
    "pop_stab =  pd.read_csv('../Datasets/SocioEconomic/political_stability_1996_2021.csv', nrows=214)\n",
    "china_hdi_le =  pd.read_csv('../Datasets/SocioEconomic/China_HDI_LE1990_2021.csv')\n",
    "s_korea_hdi_le = pd.read_csv('../Datasets/SocioEconomic/SKorea_HDI_LE_1990_2021.csv')\n",
    "us_hdi_le =  pd.read_csv('../Datasets/SocioEconomic/US_HDI_LE_1990_2021.csv')\n",
    "pop =  pd.read_csv('../Datasets/SocioEconomic/population_1960_2022.csv')\n",
    "urban_pop =  pd.read_csv('../Datasets/SocioEconomic/Urban_pop_WorldBank_1960_2021.csv')\n",
    "gdp =  pd.read_csv('../Datasets/SocioEconomic/GDP_1960_2020.csv')\n",
    "oil_prices = pd.read_csv('../Datasets/SocioEconomic/crude_oil_price_1983_2023.csv')\n",
    "inflation =  pd.read_csv('../Datasets/SocioEconomic/Inflation_data_1970_2022.csv', encoding='ISO-8859-1')"
   ]
  },
  {
   "cell_type": "code",
   "execution_count": 81,
   "metadata": {},
   "outputs": [],
   "source": [
    "# defining a list of countries\n",
    "countries_of_interest = ['USA', 'CHN', 'KOR']\n",
    "# get all the rows for each country of interest\n",
    "pop_stab = pop_stab[pop_stab['Country Code'].isin(countries_of_interest)]"
   ]
  },
  {
   "cell_type": "code",
   "execution_count": 82,
   "metadata": {},
   "outputs": [],
   "source": [
    "pop_stab = pop_stab.rename(columns={col: re.sub(r'\\s*\\[YR.*\\]', '', col) for col in pop_stab.columns[4:]})"
   ]
  },
  {
   "cell_type": "code",
   "execution_count": 84,
   "metadata": {},
   "outputs": [
    {
     "data": {
      "text/plain": [
       "Index(['Country Name', 'Country Code', 'Series Name', 'Series Code', '1996',\n",
       "       '1998', '2000', '2002', '2003', '2004', '2005', '2006', '2007', '2008',\n",
       "       '2009', '2010', '2011', '2012', '2013', '2014', '2015', '2016', '2017',\n",
       "       '2018', '2019', '2020', '2021'],\n",
       "      dtype='object')"
      ]
     },
     "execution_count": 84,
     "metadata": {},
     "output_type": "execute_result"
    }
   ],
   "source": [
    "pop_stab.columns"
   ]
  },
  {
   "cell_type": "code",
   "execution_count": null,
   "metadata": {},
   "outputs": [],
   "source": [
    "def insert_missing_years(df, missing_years):\n",
    "    for year in missing_years:\n",
    "        prev_year = str(year - 1)\n",
    "        next_year = str(year + 1)\n",
    "\n",
    "        # Check if previous and next year columns exist\n",
    "        if prev_year in df.columns and next_year in df.columns:\n",
    "            df[str(year)] = (df[prev_year] + df[next_year]) / 2\n",
    "        else:\n",
    "            print(f\"Cannot compute for year {year}, adjacent years data are not available.\")\n",
    "        \n",
    "    # Sort the columns\n",
    "    non_year_cols = [\"Country Name\", \"Country Code\", \"Series Name\", \"Series Code\"]\n",
    "    year_cols = [str(i) for i in sorted(int(col) for col in df.columns if col.isdigit())]\n",
    "    cols = non_year_cols + year_cols\n",
    "    \n",
    "    return df.reindex(columns=cols)\n"
   ]
  }
 ],
 "metadata": {
  "kernelspec": {
   "display_name": "Python 3",
   "language": "python",
   "name": "python3"
  },
  "language_info": {
   "codemirror_mode": {
    "name": "ipython",
    "version": 3
   },
   "file_extension": ".py",
   "mimetype": "text/x-python",
   "name": "python",
   "nbconvert_exporter": "python",
   "pygments_lexer": "ipython3",
   "version": "3.10.11"
  },
  "orig_nbformat": 4
 },
 "nbformat": 4,
 "nbformat_minor": 2
}
